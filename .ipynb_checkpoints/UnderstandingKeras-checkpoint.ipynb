{
 "cells": [
  {
   "cell_type": "markdown",
   "id": "7bfc3313-1e65-4f7e-9b3a-4dae12ed08ea",
   "metadata": {},
   "source": [
    "***\n",
    "# <font color=purple size=10>DeepLearning using Keras</font>\n",
    "***"
   ]
  },
  {
   "cell_type": "markdown",
   "id": "1fb69cb5-e526-439d-a7a8-edff3a9923e6",
   "metadata": {},
   "source": [
    "# <font color='purple'>Problem </font>\n",
    "<hr style='border: 2px solid purple;'>"
   ]
  },
  {
   "cell_type": "markdown",
   "id": "f80c6e3e-728f-4285-90a0-c790b9a64b4f",
   "metadata": {},
   "source": [
    "**Training a model to classify clothes based on a dataset**"
   ]
  },
  {
   "cell_type": "markdown",
   "id": "e1266afc-ad4f-470b-a6e5-01325c87c948",
   "metadata": {},
   "source": [
    "# <font color='red'>Importing</font>\n",
    "<hr style='border: 1px solid red;'>"
   ]
  },
  {
   "cell_type": "code",
   "execution_count": 1,
   "id": "d9c67cd2-5123-4e5a-927f-fc91ebc34797",
   "metadata": {},
   "outputs": [],
   "source": [
    "import pandas as pd"
   ]
  },
  {
   "cell_type": "code",
   "execution_count": 2,
   "id": "a010c393-1245-4ac7-9f2d-a875d187bdd9",
   "metadata": {},
   "outputs": [],
   "source": [
    "import tensorflow as tf"
   ]
  },
  {
   "cell_type": "code",
   "execution_count": 3,
   "id": "99b59e0b-0e15-4804-9771-fc9fa918a140",
   "metadata": {},
   "outputs": [],
   "source": [
    "from tensorflow import keras"
   ]
  },
  {
   "cell_type": "code",
   "execution_count": 4,
   "id": "94da219c-b2ac-4aae-bf41-74a6c3363169",
   "metadata": {},
   "outputs": [],
   "source": [
    "import numpy as np"
   ]
  },
  {
   "cell_type": "code",
   "execution_count": 5,
   "id": "70d0d7bb-ce05-40f4-94df-740cd372fea7",
   "metadata": {},
   "outputs": [],
   "source": [
    "dataset = keras.datasets.fashion_mnist"
   ]
  },
  {
   "cell_type": "code",
   "execution_count": 6,
   "id": "b36ed7c4-85d7-4c9d-bef9-af6a9d2a47c4",
   "metadata": {},
   "outputs": [],
   "source": [
    "((image_training, id_training), (image_test, id_test)) = dataset.load_data() #this function will return 2 tuples, that will be our test and training data"
   ]
  },
  {
   "cell_type": "markdown",
   "id": "dc979296-5439-4514-b24f-16f5f36c4f5f",
   "metadata": {},
   "source": [
    "# <font color='red'>Working with the data</font>\n",
    "<hr style='border: 1px solid red;'>"
   ]
  },
  {
   "cell_type": "code",
   "execution_count": 7,
   "id": "e5a4f580-c8c0-4ae4-8a19-05187674eb4c",
   "metadata": {},
   "outputs": [
    {
     "data": {
      "text/plain": [
       "(60000, 28, 28)"
      ]
     },
     "execution_count": 7,
     "metadata": {},
     "output_type": "execute_result"
    }
   ],
   "source": [
    "image_training.shape"
   ]
  },
  {
   "cell_type": "markdown",
   "id": "94537e8f-8719-47f1-a366-1983f0f7bb36",
   "metadata": {},
   "source": [
    "**So we have a training image database formed by 60.000 images with 28 x 28px size**"
   ]
  },
  {
   "cell_type": "code",
   "execution_count": 8,
   "id": "20871034-c92e-42c7-ae30-85d9c3b4aa64",
   "metadata": {},
   "outputs": [
    {
     "data": {
      "text/plain": [
       "10000"
      ]
     },
     "execution_count": 8,
     "metadata": {},
     "output_type": "execute_result"
    }
   ],
   "source": [
    "len(image_test)"
   ]
  },
  {
   "cell_type": "markdown",
   "id": "a4feea57-b2b3-4448-8214-d6b78d992f3d",
   "metadata": {},
   "source": [
    "**So we have a test image database formed by 10.000 images with 28 x 28px size**"
   ]
  },
  {
   "cell_type": "markdown",
   "id": "f3305658-b86d-4d71-ba78-4abd819c1568",
   "metadata": {},
   "source": [
    "### <font color='green'>To visualize the images</font>\n",
    "<hr style='border: 1px solid green;'>"
   ]
  },
  {
   "cell_type": "code",
   "execution_count": 9,
   "id": "b008c7e5-305f-4554-8f69-deee0aa79129",
   "metadata": {},
   "outputs": [],
   "source": [
    "import matplotlib.pyplot as plt"
   ]
  },
  {
   "cell_type": "code",
   "execution_count": 10,
   "id": "e44c103b-2a60-4f82-ab40-10634844fea5",
   "metadata": {},
   "outputs": [
    {
     "data": {
      "text/plain": [
       "<matplotlib.image.AxesImage at 0x7ff5020fc7f0>"
      ]
     },
     "execution_count": 10,
     "metadata": {},
     "output_type": "execute_result"
    },
    {
     "data": {
      "image/png": "[encoded data removed]",
      "text/plain": [
       "<Figure size 432x288 with 1 Axes>"
      ]
     },
     "metadata": {
      "needs_background": "light"
     },
     "output_type": "display_data"
    }
   ],
   "source": [
    "plt.imshow(image_training[0])"
   ]
  },
  {
   "cell_type": "markdown",
   "id": "3ed33b19-f45d-46d7-9897-224bc4cf6640",
   "metadata": {},
   "source": [
    "**Let's check something:**"
   ]
  },
  {
   "cell_type": "code",
   "execution_count": 11,
   "id": "de1f14dd-0fd9-4e53-8a1b-998287b964b9",
   "metadata": {},
   "outputs": [
    {
     "data": {
      "text/plain": [
       "Text(0.5, 1.0, '9')"
      ]
     },
     "execution_count": 11,
     "metadata": {},
     "output_type": "execute_result"
    },
    {
     "data": {
      "image/png": "[encoded data removed]",
      "text/plain": [
       "<Figure size 432x288 with 1 Axes>"
      ]
     },
     "metadata": {
      "needs_background": "light"
     },
     "output_type": "display_data"
    }
   ],
   "source": [
    "plt.imshow(image_training[0])\n",
    "plt.title(id_training[0])"
   ]
  },
  {
   "cell_type": "markdown",
   "id": "6110374f-f334-487b-9323-701dd7f1e107",
   "metadata": {},
   "source": [
    "**We can see the number 9 on top of image**"
   ]
  },
  {
   "cell_type": "code",
   "execution_count": 12,
   "id": "a7badb47-ce47-428f-84a8-5bf1a2fdaa36",
   "metadata": {},
   "outputs": [
    {
     "data": {
      "text/plain": [
       "array([9, 0, 0, ..., 3, 0, 5], dtype=uint8)"
      ]
     },
     "execution_count": 12,
     "metadata": {},
     "output_type": "execute_result"
    }
   ],
   "source": [
    "id_training"
   ]
  },
  {
   "cell_type": "markdown",
   "id": "83fbda93-9a25-41b8-a2be-23e75a9d3b50",
   "metadata": {},
   "source": [
    "**here we can see it is an array, so we can check the min an max values to see with how many categories we are dealing**"
   ]
  },
  {
   "cell_type": "code",
   "execution_count": 13,
   "id": "43568231-fe15-423b-a76c-ee0a056686bd",
   "metadata": {},
   "outputs": [
    {
     "data": {
      "text/plain": [
       "0"
      ]
     },
     "execution_count": 13,
     "metadata": {},
     "output_type": "execute_result"
    }
   ],
   "source": [
    "id_training.min()"
   ]
  },
  {
   "cell_type": "code",
   "execution_count": 14,
   "id": "de58cf35-52ef-4114-be2c-fde967e5fa1a",
   "metadata": {},
   "outputs": [
    {
     "data": {
      "text/plain": [
       "9"
      ]
     },
     "execution_count": 14,
     "metadata": {},
     "output_type": "execute_result"
    }
   ],
   "source": [
    "id_training.max()"
   ]
  },
  {
   "cell_type": "markdown",
   "id": "2dd7177a-7bb6-4230-97f0-1deba89f61d4",
   "metadata": {},
   "source": [
    "**So we have a total of 10 classifications**"
   ]
  },
  {
   "cell_type": "code",
   "execution_count": 15,
   "id": "a000577f-1039-430a-b195-31a7a52c8431",
   "metadata": {},
   "outputs": [],
   "source": [
    "total_class = 10"
   ]
  },
  {
   "cell_type": "markdown",
   "id": "25a79423-5312-4640-81ce-248ce23aece1",
   "metadata": {},
   "source": [
    "**To visualize some of this categories**"
   ]
  },
  {
   "cell_type": "code",
   "execution_count": 16,
   "id": "06c71ed7-a1c4-4692-a72e-effa9eb8ffda",
   "metadata": {},
   "outputs": [
    {
     "data": {
      "image/png": "[encoded data removed]",
      "text/plain": [
       "<Figure size 432x288 with 10 Axes>"
      ]
     },
     "metadata": {
      "needs_background": "light"
     },
     "output_type": "display_data"
    }
   ],
   "source": [
    "for image in range(10):   #show 10 itens from our list\n",
    "    plt.subplot(2, 5, image + 1) #the number of lines and columns and iterating the images\n",
    "    plt.imshow(image_training[image]) #to show the image\n",
    "    plt.title(id_training[image]) #to show the title"
   ]
  },
  {
   "cell_type": "markdown",
   "id": "9e40af5a-2c67-47d6-b128-48b97d3d9e74",
   "metadata": {},
   "source": [
    "### <font color='green'>To change the classification of numbers to the real name of the classes</font>\n",
    "<hr style='border: 1px solid green;'>"
   ]
  },
  {
   "cell_type": "markdown",
   "id": "af410e7f-d1f2-45cd-8ace-950d12e5d585",
   "metadata": {},
   "source": [
    "**Checking the labels on the dataset website : https://github.com/zalandoresearch/fashion-mnist**"
   ]
  },
  {
   "cell_type": "raw",
   "id": "daeb17a2-9031-4dc6-a4c0-361776a347a8",
   "metadata": {},
   "source": [
    "0\tT-shirt/top\n",
    "1\tTrouser\n",
    "2\tPullover\n",
    "3\tDress\n",
    "4\tCoat\n",
    "5\tSandal\n",
    "6\tShirt\n",
    "7\tSneaker\n",
    "8\tBag\n",
    "9\tAnkle boot"
   ]
  },
  {
   "cell_type": "code",
   "execution_count": 17,
   "id": "a4860886-b841-4609-bbc0-1dfbb5994fb0",
   "metadata": {},
   "outputs": [],
   "source": [
    "names_classifications=['T-shit', 'Trouser', 'Pullover', 'Dress', 'Coat', 'Sandal', 'Shirt', 'Sneaker', 'Bag', 'Ankle boot']\n"
   ]
  },
  {
   "cell_type": "code",
   "execution_count": 18,
   "id": "f14a0b80-1128-4e67-90d6-473f3abd5728",
   "metadata": {},
   "outputs": [
    {
     "data": {
      "image/png": "[encoded data removed]",
      "text/plain": [
       "<Figure size 432x288 with 10 Axes>"
      ]
     },
     "metadata": {
      "needs_background": "light"
     },
     "output_type": "display_data"
    }
   ],
   "source": [
    "for image in range(10):   #show 10 itens from our list\n",
    "    plt.subplot(2, 5, image + 1) #the number of lines and columns and iterating the images\n",
    "    plt.imshow(image_training[image]) #to show the image\n",
    "    plt.title(names_classifications[id_training[image]]) #to show the title\n",
    "    "
   ]
  },
  {
   "cell_type": "markdown",
   "id": "cdf213c0-9fb8-476d-8cbc-8f32f641d490",
   "metadata": {},
   "source": [
    "**Now we have a better result**"
   ]
  },
  {
   "cell_type": "markdown",
   "id": "c4d73573-fab9-48ea-ba66-dcd51a249ce4",
   "metadata": {},
   "source": [
    "# <font color='red'>Creating the model: entry, processing and exit</font>\n",
    "<hr style='border: 1px solid red;'>"
   ]
  },
  {
   "cell_type": "markdown",
   "id": "b6d713f4-2b47-4b61-8494-4e24a554d553",
   "metadata": {},
   "source": [
    "**model = #entry\n",
    "          #processing\n",
    "          #end**"
   ]
  },
  {
   "cell_type": "code",
   "execution_count": 19,
   "id": "a05b135d-9737-4db1-a0c4-0e70d155122d",
   "metadata": {},
   "outputs": [
    {
     "name": "stderr",
     "output_type": "stream",
     "text": [
      "2022-06-25 11:09:14.543753: I tensorflow/core/platform/cpu_feature_guard.cc:142] This TensorFlow binary is optimized with oneAPI Deep Neural Network Library (oneDNN) to use the following CPU instructions in performance-critical operations:  SSE4.1 SSE4.2\n",
      "To enable them in other operations, rebuild TensorFlow with the appropriate compiler flags.\n"
     ]
    }
   ],
   "source": [
    "model = keras.Sequential([\n",
    "    keras.layers.Flatten(input_shape = (28,28))\n",
    "])"
   ]
  },
  {
   "cell_type": "markdown",
   "id": "bb36a16b-b62f-43d8-a818-5aac2539c816",
   "metadata": {},
   "source": [
    "**To eliminate the error above**"
   ]
  },
  {
   "cell_type": "code",
   "execution_count": 20,
   "id": "982aaa08-8c9a-4fb3-a702-f49982d7f68f",
   "metadata": {},
   "outputs": [],
   "source": [
    "import os"
   ]
  },
  {
   "cell_type": "code",
   "execution_count": 21,
   "id": "c4ee76fd-e0cb-4af8-923e-6cbb99ab9086",
   "metadata": {},
   "outputs": [],
   "source": [
    "os.environ['TF_CPP_MIN_LOG_LEVEL'] = '2'"
   ]
  },
  {
   "cell_type": "markdown",
   "id": "b13c8f29-77f2-4816-836c-b13f6cf6d222",
   "metadata": {},
   "source": [
    "**Entry:**"
   ]
  },
  {
   "cell_type": "code",
   "execution_count": 22,
   "id": "cd06636d-ed4a-4348-86bb-9947f9daaf8d",
   "metadata": {},
   "outputs": [],
   "source": [
    "model = keras.Sequential([\n",
    "    keras.layers.Flatten(input_shape = (28,28))\n",
    "])"
   ]
  },
  {
   "cell_type": "markdown",
   "id": "18e4649c-247b-4612-96af-b66e56db77a2",
   "metadata": {},
   "source": [
    "**Processing:**"
   ]
  },
  {
   "cell_type": "markdown",
   "id": "ff47f3f4-4c53-492f-af44-670660249501",
   "metadata": {},
   "source": [
    "**The Dense funcition will do the conection between all the itens of layer 0 (entry) with the second layer (processing)**"
   ]
  },
  {
   "cell_type": "code",
   "execution_count": 23,
   "id": "b8bb9fb6-ea57-4906-a4c0-fe9ed9a04907",
   "metadata": {},
   "outputs": [
    {
     "ename": "SyntaxError",
     "evalue": "invalid syntax (716018474.py, line 3)",
     "output_type": "error",
     "traceback": [
      "\u001b[0;36m  Input \u001b[0;32mIn [23]\u001b[0;36m\u001b[0m\n\u001b[0;31m    keras.layers.Dense(256, activation = tensorflow.nn.relu) #always use even numbers\u001b[0m\n\u001b[0m    ^\u001b[0m\n\u001b[0;31mSyntaxError\u001b[0m\u001b[0;31m:\u001b[0m invalid syntax\n"
     ]
    }
   ],
   "source": [
    "model = keras.Sequential([\n",
    "    keras.layers.Flatten(input_shape = (28,28))\n",
    "    keras.layers.Dense(256, activation = tensorflow.nn.relu) #always use even numbers\n",
    "])"
   ]
  },
  {
   "cell_type": "code",
   "execution_count": null,
   "id": "2ee81cbc-71e9-4976-9234-734427d150f9",
   "metadata": {},
   "outputs": [],
   "source": [
    "image_training.shape"
   ]
  },
  {
   "cell_type": "markdown",
   "id": "7b7a8d76-0ea0-47e2-803c-a3086f06f109",
   "metadata": {},
   "source": [
    "**End:**"
   ]
  },
  {
   "cell_type": "code",
   "execution_count": 24,
   "id": "90b873a1-b3dc-4edc-b8ca-55b11e403a90",
   "metadata": {},
   "outputs": [],
   "source": [
    "model = keras.Sequential([\n",
    "    keras.layers.Flatten(input_shape = (28,28)),\n",
    "    keras.layers.Dense(256, activation = tf.nn.relu), #always use even numbers\n",
    "    keras.layers.Dense(10, activation = tf.nn.softmax)      #10 like the number of classes we have\n",
    "])"
   ]
  },
  {
   "cell_type": "markdown",
   "id": "44a552b0-4065-4ab8-9a92-b1c328242432",
   "metadata": {},
   "source": [
    "### <font color='green'>Creating the model:</font>\n",
    "<hr style='border: 1px solid green;'>"
   ]
  },
  {
   "cell_type": "code",
   "execution_count": 25,
   "id": "dfbc4b3f-91f4-4442-b375-b2936cf026cf",
   "metadata": {},
   "outputs": [],
   "source": [
    "model.compile(optimizer = 'adam', loss = 'sparse_categorical_crossentropy')"
   ]
  },
  {
   "cell_type": "code",
   "execution_count": 26,
   "id": "15a0201b-cec1-4ec6-8c07-05484fd084fb",
   "metadata": {},
   "outputs": [
    {
     "name": "stdout",
     "output_type": "stream",
     "text": [
      "1875/1875 [==============================] - 2s 1ms/step - loss: 11.7202\n"
     ]
    },
    {
     "data": {
      "text/plain": [
       "<tensorflow.python.keras.callbacks.History at 0x7ff52481a5e0>"
      ]
     },
     "execution_count": 26,
     "metadata": {},
     "output_type": "execute_result"
    }
   ],
   "source": [
    "model.fit(image_training, id_training)"
   ]
  },
  {
   "cell_type": "markdown",
   "id": "33ab119e-6d8b-45c3-9169-1b596eab0bda",
   "metadata": {},
   "source": [
    "### <font color='green'>Color scale and normalization:</font>\n",
    "<hr style='border: 1px solid green;'>"
   ]
  },
  {
   "cell_type": "markdown",
   "id": "bba59b0c-3568-451b-a404-ab1522d4e744",
   "metadata": {},
   "source": [
    "**This process will reduce loss**"
   ]
  },
  {
   "cell_type": "code",
   "execution_count": 27,
   "id": "5def0749-3b71-4bda-b9f8-095f8d57c3e8",
   "metadata": {},
   "outputs": [
    {
     "data": {
      "text/plain": [
       "<matplotlib.colorbar.Colorbar at 0x7ff5020aa160>"
      ]
     },
     "execution_count": 27,
     "metadata": {},
     "output_type": "execute_result"
    },
    {
     "data": {
      "image/png": "[encoded data removed]",
      "text/plain": [
       "<Figure size 432x288 with 2 Axes>"
      ]
     },
     "metadata": {
      "needs_background": "light"
     },
     "output_type": "display_data"
    }
   ],
   "source": [
    "plt.imshow(image_training[0])\n",
    "plt.colorbar()"
   ]
  },
  {
   "cell_type": "code",
   "execution_count": 28,
   "id": "62a7e52c-e13b-4a2c-a584-39fd2b672f84",
   "metadata": {},
   "outputs": [],
   "source": [
    "image_training = image_training/float(255)       #255 from the colorbar max"
   ]
  },
  {
   "cell_type": "code",
   "execution_count": 29,
   "id": "e8db65ae-ea21-4cd0-917e-88e87fec66f0",
   "metadata": {},
   "outputs": [],
   "source": [
    "model2 = keras.Sequential([\n",
    "    keras.layers.Flatten(input_shape = (28,28)),\n",
    "    keras.layers.Dense(256, activation = tf.nn.relu), #always use even numbers\n",
    "    keras.layers.Dense(10, activation = tf.nn.softmax)      #10 like the number of classes we have\n",
    "])"
   ]
  },
  {
   "cell_type": "code",
   "execution_count": 30,
   "id": "75b51d2f-2ff5-4fac-8600-c55ea3aa6f02",
   "metadata": {},
   "outputs": [],
   "source": [
    "model2.compile(optimizer = 'adam', loss = 'sparse_categorical_crossentropy')"
   ]
  },
  {
   "cell_type": "code",
   "execution_count": 31,
   "id": "c2b4d357-027b-4405-8b62-8f55934f2365",
   "metadata": {},
   "outputs": [
    {
     "name": "stdout",
     "output_type": "stream",
     "text": [
      "1875/1875 [==============================] - 3s 1ms/step - loss: 0.6006\n"
     ]
    },
    {
     "data": {
      "text/plain": [
       "<tensorflow.python.keras.callbacks.History at 0x7ff524635e20>"
      ]
     },
     "execution_count": 31,
     "metadata": {},
     "output_type": "execute_result"
    }
   ],
   "source": [
    "model2.fit(image_training, id_training)"
   ]
  },
  {
   "cell_type": "markdown",
   "id": "ddf31e6d-95f4-42ef-aa9b-f949dfea7b74",
   "metadata": {},
   "source": [
    "### <font color='green'>Improving the layers:</font>\n",
    "<hr style='border: 1px solid green;'>"
   ]
  },
  {
   "cell_type": "code",
   "execution_count": 32,
   "id": "212b77d6-8c25-4c66-9bf5-4c41b1bf635b",
   "metadata": {},
   "outputs": [],
   "source": [
    "model = keras.Sequential([\n",
    "    keras.layers.Flatten(input_shape = (28,28)),\n",
    "    keras.layers.Dense(256, activation = tf.nn.relu), #always use even numbers\n",
    "    keras.layers.Dense(128, activation = tf.nn.relu),\n",
    "    keras.layers.Dense(10, activation = tf.nn.softmax)      #10 like the number of classes we have\n",
    "])"
   ]
  },
  {
   "cell_type": "code",
   "execution_count": 33,
   "id": "4fa4cc46-271c-4407-b46b-06bc11791510",
   "metadata": {},
   "outputs": [],
   "source": [
    "model.compile(optimizer = 'adam', loss = 'sparse_categorical_crossentropy')"
   ]
  },
  {
   "cell_type": "code",
   "execution_count": 34,
   "id": "ad8e1c8f-c4cf-476f-9e63-eba5f228a4b8",
   "metadata": {},
   "outputs": [
    {
     "name": "stdout",
     "output_type": "stream",
     "text": [
      "1875/1875 [==============================] - 3s 2ms/step - loss: 0.5980\n"
     ]
    },
    {
     "data": {
      "text/plain": [
       "<tensorflow.python.keras.callbacks.History at 0x7ff5247d8490>"
      ]
     },
     "execution_count": 34,
     "metadata": {},
     "output_type": "execute_result"
    }
   ],
   "source": [
    "model.fit(image_training, id_training)"
   ]
  },
  {
   "cell_type": "code",
   "execution_count": 35,
   "id": "d3beaca7-2acb-4016-b06c-78f0b8845d92",
   "metadata": {},
   "outputs": [
    {
     "name": "stdout",
     "output_type": "stream",
     "text": [
      "1875/1875 [==============================] - 3s 2ms/step - loss: 0.6526\n"
     ]
    },
    {
     "data": {
      "text/plain": [
       "<tensorflow.python.keras.callbacks.History at 0x7ff5247ee760>"
      ]
     },
     "execution_count": 35,
     "metadata": {},
     "output_type": "execute_result"
    }
   ],
   "source": [
    "model = keras.Sequential([\n",
    "    keras.layers.Flatten(input_shape = (28,28)),\n",
    "    keras.layers.Dense(256, activation = tf.nn.relu), #always use even numbers\n",
    "    keras.layers.Dense(128, activation = tf.nn.relu),\n",
    "    keras.layers.Dense(64, activation = tf.nn.relu),\n",
    "    keras.layers.Dense(32, activation = tf.nn.relu),\n",
    "    keras.layers.Dense(10, activation = tf.nn.softmax)      #10 like the number of classes we have\n",
    "])\n",
    "model.compile(optimizer = 'adam', loss = 'sparse_categorical_crossentropy')\n",
    "model.fit(image_training, id_training)"
   ]
  },
  {
   "cell_type": "markdown",
   "id": "25344996-97db-4d97-98e4-7bf6802c26cb",
   "metadata": {},
   "source": [
    "**Result: Increasing the number of layers, for this example, is not helping the model**"
   ]
  },
  {
   "cell_type": "markdown",
   "id": "91263a07-507f-470c-86e5-91d185e8ed1e",
   "metadata": {},
   "source": [
    "# <font color='red'>Runtime</font>\n",
    "<hr style='border: 1px solid red;'>"
   ]
  },
  {
   "cell_type": "markdown",
   "id": "bb4cba9a-1ddd-4a9f-9d11-1f6bf46443dc",
   "metadata": {},
   "source": [
    "**Returning to the first model:**"
   ]
  },
  {
   "cell_type": "markdown",
   "id": "cb89da92-c369-4088-929a-1811c1409ce7",
   "metadata": {},
   "source": [
    "-----------------------------------------------------------------------------------------------------------------------------\n",
    "\n",
    "**Sometimes the values of variables like the LOSS will be the same even when you change the model, this happens because the jupyternotebook is keeping the variable saved in the memory, to solve the problem you have to restart the kernel and run all the cells again**\n",
    "\n",
    "-----------------------------------------------------------------------------------------------------------------------------"
   ]
  },
  {
   "cell_type": "code",
   "execution_count": 36,
   "id": "211b496d-0549-4991-be84-979e65d9d5c4",
   "metadata": {},
   "outputs": [],
   "source": [
    "image_training = image_training/float(255)"
   ]
  },
  {
   "cell_type": "code",
   "execution_count": 39,
   "id": "d873b3db-66d8-40e1-89e8-4eed06f6d386",
   "metadata": {},
   "outputs": [
    {
     "name": "stdout",
     "output_type": "stream",
     "text": [
      "Epoch 1/5\n",
      "1875/1875 [==============================] - 3s 1ms/step - loss: 1.3751A: 0s \n",
      "Epoch 2/5\n",
      "1875/1875 [==============================] - 2s 1ms/step - loss: 0.6113A: 0s - \n",
      "Epoch 3/5\n",
      "1875/1875 [==============================] - 2s 1ms/step - loss: 0.5361\n",
      "Epoch 4/5\n",
      "1875/1875 [==============================] - 2s 1ms/step - loss: 0.4926\n",
      "Epoch 5/5\n",
      "1875/1875 [==============================] - 2s 1ms/step - loss: 0.4650\n"
     ]
    },
    {
     "data": {
      "text/plain": [
       "<tensorflow.python.keras.callbacks.History at 0x7ff52460ab50>"
      ]
     },
     "execution_count": 39,
     "metadata": {},
     "output_type": "execute_result"
    }
   ],
   "source": [
    "model = keras.Sequential([\n",
    "    keras.layers.Flatten(input_shape = (28,28)),\n",
    "    keras.layers.Dense(256, activation = tf.nn.relu), #always use even numbers\n",
    "    keras.layers.Dense(10, activation = tf.nn.softmax)      #10 like the number of classes we have\n",
    "])\n",
    "model.compile(optimizer = 'adam', loss = 'sparse_categorical_crossentropy')\n",
    "model.fit(image_training, id_training, epochs = 5)"
   ]
  },
  {
   "cell_type": "markdown",
   "id": "bc1a900c-dc01-484f-930e-4711fa57a38e",
   "metadata": {},
   "source": [
    "# <font color='red'>Training Accuracy: </font>\n",
    "<hr style='border: 1px solid red;'>"
   ]
  },
  {
   "cell_type": "markdown",
   "id": "1b09a630-7ba6-4c27-8efd-710b51c51820",
   "metadata": {},
   "source": [
    "### <font color='green'>Increasing the number of epochs:</font>\n",
    "<hr style='border: 1px solid green;'>"
   ]
  },
  {
   "cell_type": "code",
   "execution_count": 40,
   "id": "b2bc1ad1-1bbf-491c-9520-291531fe45ec",
   "metadata": {},
   "outputs": [
    {
     "name": "stdout",
     "output_type": "stream",
     "text": [
      "Epoch 1/5\n",
      "1875/1875 [==============================] - 2s 1ms/step - loss: 1.3813\n",
      "Epoch 2/5\n",
      "1875/1875 [==============================] - 2s 1ms/step - loss: 0.6129\n",
      "Epoch 3/5\n",
      "1875/1875 [==============================] - 2s 1ms/step - loss: 0.5362\n",
      "Epoch 4/5\n",
      "1875/1875 [==============================] - 2s 1ms/step - loss: 0.5055\n",
      "Epoch 5/5\n",
      "1875/1875 [==============================] - 2s 1ms/step - loss: 0.4723\n"
     ]
    },
    {
     "data": {
      "text/plain": [
       "<tensorflow.python.keras.callbacks.History at 0x7ff510d98d60>"
      ]
     },
     "execution_count": 40,
     "metadata": {},
     "output_type": "execute_result"
    }
   ],
   "source": [
    "model = keras.Sequential([\n",
    "    keras.layers.Flatten(input_shape = (28,28)),\n",
    "    keras.layers.Dense(256, activation = tf.nn.relu), #always use even numbers\n",
    "    keras.layers.Dense(10, activation = tf.nn.softmax)      #10 like the number of classes we have\n",
    "])\n",
    "model.compile(optimizer = 'adam', loss = 'sparse_categorical_crossentropy')\n",
    "model.fit(image_training, id_training, epochs = 5) #to traine the model more times and Increase the accuracy"
   ]
  },
  {
   "cell_type": "markdown",
   "id": "5eb49950-2c3d-4ed2-8b5c-b167e1aeb1b3",
   "metadata": {},
   "source": [
    "### <font color='green'>Accuracy parameter :</font>\n",
    "<hr style='border: 1px solid green;'>"
   ]
  },
  {
   "cell_type": "code",
   "execution_count": 41,
   "id": "b7a80bf2-9c19-48a9-9cac-b7756e4275e4",
   "metadata": {},
   "outputs": [
    {
     "name": "stdout",
     "output_type": "stream",
     "text": [
      "Epoch 1/5\n",
      "1875/1875 [==============================] - 3s 1ms/step - loss: 1.3725 - accuracy: 0.5648\n",
      "Epoch 2/5\n",
      "1875/1875 [==============================] - 2s 1ms/step - loss: 0.6123 - accuracy: 0.7788\n",
      "Epoch 3/5\n",
      "1875/1875 [==============================] - 2s 1ms/step - loss: 0.5398 - accuracy: 0.8086\n",
      "Epoch 4/5\n",
      "1875/1875 [==============================] - 2s 1ms/step - loss: 0.4927 - accuracy: 0.8258\n",
      "Epoch 5/5\n",
      "1875/1875 [==============================] - 2s 1ms/step - loss: 0.4690 - accuracy: 0.8350\n"
     ]
    },
    {
     "data": {
      "text/plain": [
       "<tensorflow.python.keras.callbacks.History at 0x7ff4f24d5ee0>"
      ]
     },
     "execution_count": 41,
     "metadata": {},
     "output_type": "execute_result"
    }
   ],
   "source": [
    "model = keras.Sequential([\n",
    "    keras.layers.Flatten(input_shape = (28,28)),\n",
    "    keras.layers.Dense(256, activation = tf.nn.relu), #always use even numbers\n",
    "    keras.layers.Dense(10, activation = tf.nn.softmax)      #10 like the number of classes we have\n",
    "])\n",
    "model.compile(optimizer = 'adam', loss = 'sparse_categorical_crossentropy', metrics = ['accuracy'])\n",
    "model.fit(image_training, id_training, epochs = 5) #to traine the model more times and Increase the accuracy"
   ]
  },
  {
   "cell_type": "markdown",
   "id": "05941c67-cc88-4529-bd5c-403813af5a46",
   "metadata": {},
   "source": [
    "**So we can see the loss decreasing and the accuracy increasing**"
   ]
  },
  {
   "cell_type": "markdown",
   "id": "e082143e-6e5f-43b5-9ad7-4fb162595b32",
   "metadata": {},
   "source": [
    "# <font color='red'>Testing the model: </font>\n",
    "<hr style='border: 1px solid red;'>"
   ]
  },
  {
   "cell_type": "code",
   "execution_count": 42,
   "id": "8c7558e4-369d-402c-b17a-1294dd513d02",
   "metadata": {},
   "outputs": [],
   "source": [
    "test = model.predict(image_test)"
   ]
  },
  {
   "cell_type": "code",
   "execution_count": 43,
   "id": "6fa4d0b7-5d83-4f86-9487-03cb609ebf23",
   "metadata": {},
   "outputs": [
    {
     "data": {
      "text/plain": [
       "array([0., 0., 0., 0., 0., 0., 0., 0., 0., 1.], dtype=float32)"
      ]
     },
     "execution_count": 43,
     "metadata": {},
     "output_type": "execute_result"
    }
   ],
   "source": [
    "test[0]"
   ]
  },
  {
   "cell_type": "markdown",
   "id": "f7f06bb0-ed23-4ec7-9f8f-23bc3d189ace",
   "metadata": {},
   "source": [
    "**Arrray with 10 positions, now we have to check the max argument**"
   ]
  },
  {
   "cell_type": "code",
   "execution_count": 44,
   "id": "8bef466e-20a1-4269-80a3-3785a5cec387",
   "metadata": {},
   "outputs": [
    {
     "name": "stdout",
     "output_type": "stream",
     "text": [
      "The text result is: 9\n",
      "The number of test image is: 9\n"
     ]
    }
   ],
   "source": [
    "print('The text result is:', np.argmax(test[0]))\n",
    "print('The number of test image is:', id_test[0])"
   ]
  },
  {
   "cell_type": "markdown",
   "id": "1e6a4afd-1336-4045-aad4-b73cc2506eae",
   "metadata": {},
   "source": [
    "**So we can see our model is matching the results**"
   ]
  },
  {
   "cell_type": "markdown",
   "id": "62423f17-4f03-44ad-9621-c3325499a6b9",
   "metadata": {},
   "source": [
    "**Another test:**"
   ]
  },
  {
   "cell_type": "code",
   "execution_count": 45,
   "id": "4f1608d7-7c92-4fb3-8fae-8e1cd8a248cb",
   "metadata": {},
   "outputs": [
    {
     "name": "stdout",
     "output_type": "stream",
     "text": [
      "The text result is: 2\n",
      "The number of test image is: 2\n"
     ]
    }
   ],
   "source": [
    "print('The text result is:', np.argmax(test[1]))\n",
    "print('The number of test image is:', id_test[1])"
   ]
  },
  {
   "cell_type": "code",
   "execution_count": 46,
   "id": "aa2b6bf2-c91a-4e63-8b5b-3accca6d4c98",
   "metadata": {},
   "outputs": [
    {
     "name": "stdout",
     "output_type": "stream",
     "text": [
      "The text result is: 1\n",
      "The number of test image is: 1\n"
     ]
    }
   ],
   "source": [
    "print('The text result is:', np.argmax(test[2]))\n",
    "print('The number of test image is:', id_test[2])"
   ]
  },
  {
   "cell_type": "markdown",
   "id": "1971c856-6f66-4d16-bfd5-09afff1ee89e",
   "metadata": {},
   "source": [
    "# <font color='red'>Model evaluation and validation: </font>\n",
    "<hr style='border: 1px solid red;'>"
   ]
  },
  {
   "cell_type": "markdown",
   "id": "d8362a64-b135-4346-be8f-ca978f2334b0",
   "metadata": {},
   "source": [
    "### <font color='green'>Evaluation :</font>\n",
    "<hr style='border: 1px solid green;'>"
   ]
  },
  {
   "cell_type": "code",
   "execution_count": 47,
   "id": "5219384d-8850-416c-990c-a571026a4d91",
   "metadata": {},
   "outputs": [
    {
     "name": "stdout",
     "output_type": "stream",
     "text": [
      "313/313 [==============================] - 0s 657us/step - loss: 29404.9766 - accuracy: 0.6746\n"
     ]
    }
   ],
   "source": [
    "loss_test, accuracy_test = model.evaluate(image_test, id_test)"
   ]
  },
  {
   "cell_type": "code",
   "execution_count": 48,
   "id": "d26f479a-8015-43b1-a833-660251f94e23",
   "metadata": {},
   "outputs": [
    {
     "name": "stdout",
     "output_type": "stream",
     "text": [
      "The test loss is: 29404.9765625\n",
      "The test accuracy is: 0.6746000051498413\n"
     ]
    }
   ],
   "source": [
    "print('The test loss is:', loss_test)\n",
    "print('The test accuracy is:', accuracy_test)"
   ]
  },
  {
   "cell_type": "markdown",
   "id": "beb28bb4-a552-40c3-8681-fcb751acf373",
   "metadata": {},
   "source": [
    "### <font color='green'>Validation :</font>\n",
    "<hr style='border: 1px solid green;'>"
   ]
  },
  {
   "cell_type": "code",
   "execution_count": 49,
   "id": "900b0ebf-4b67-4e91-ade8-ba528fc4e25e",
   "metadata": {},
   "outputs": [
    {
     "name": "stdout",
     "output_type": "stream",
     "text": [
      "Epoch 1/10\n",
      "1500/1500 [==============================] - 3s 2ms/step - loss: 1.4425 - accuracy: 0.5730 - val_loss: 0.6668 - val_accuracy: 0.7628\n",
      "Epoch 2/10\n",
      "1500/1500 [==============================] - 2s 1ms/step - loss: 0.6389 - accuracy: 0.7689 - val_loss: 0.5707 - val_accuracy: 0.7918\n",
      "Epoch 3/10\n",
      "1500/1500 [==============================] - 2s 2ms/step - loss: 0.5504 - accuracy: 0.8026 - val_loss: 0.5182 - val_accuracy: 0.8141\n",
      "Epoch 4/10\n",
      "1500/1500 [==============================] - 2s 1ms/step - loss: 0.5089 - accuracy: 0.8160 - val_loss: 0.4955 - val_accuracy: 0.8200\n",
      "Epoch 5/10\n",
      "1500/1500 [==============================] - 2s 1ms/step - loss: 0.4804 - accuracy: 0.8319 - val_loss: 0.4702 - val_accuracy: 0.8298\n",
      "Epoch 6/10\n",
      "1500/1500 [==============================] - 2s 1ms/step - loss: 0.4640 - accuracy: 0.8370 - val_loss: 0.4555 - val_accuracy: 0.8393\n",
      "Epoch 7/10\n",
      "1500/1500 [==============================] - 2s 1ms/step - loss: 0.4466 - accuracy: 0.8429 - val_loss: 0.4455 - val_accuracy: 0.8412\n",
      "Epoch 8/10\n",
      "1500/1500 [==============================] - 2s 1ms/step - loss: 0.4371 - accuracy: 0.8490 - val_loss: 0.4348 - val_accuracy: 0.8445\n",
      "Epoch 9/10\n",
      "1500/1500 [==============================] - 2s 1ms/step - loss: 0.4265 - accuracy: 0.8490 - val_loss: 0.4332 - val_accuracy: 0.8460\n",
      "Epoch 10/10\n",
      "1500/1500 [==============================] - 2s 1ms/step - loss: 0.4179 - accuracy: 0.8542 - val_loss: 0.4321 - val_accuracy: 0.8429\n"
     ]
    }
   ],
   "source": [
    "model = keras.Sequential([\n",
    "    keras.layers.Flatten(input_shape = (28,28)),\n",
    "    keras.layers.Dense(256, activation = tf.nn.relu), #always use even numbers\n",
    "    keras.layers.Dense(10, activation = tf.nn.softmax)      #10 like the number of classes we have\n",
    "])\n",
    "model.compile(optimizer = 'adam', loss = 'sparse_categorical_crossentropy', metrics = ['accuracy'])\n",
    "historic = model.fit(image_training, id_training, epochs = 10, validation_split = 0.2) #validation"
   ]
  },
  {
   "cell_type": "code",
   "execution_count": 50,
   "id": "f585b4ae-cdc1-4f8a-b745-93de5180ac1c",
   "metadata": {},
   "outputs": [
    {
     "data": {
      "text/plain": [
       "<tensorflow.python.keras.callbacks.History at 0x7ff502d3eb20>"
      ]
     },
     "execution_count": 50,
     "metadata": {},
     "output_type": "execute_result"
    }
   ],
   "source": [
    "historic"
   ]
  },
  {
   "cell_type": "code",
   "execution_count": 51,
   "id": "d94c51a4-66f9-4b2f-b4aa-6aa375ba4245",
   "metadata": {},
   "outputs": [
    {
     "data": {
      "text/plain": [
       "{'loss': [1.0322010517120361,\n",
       "  0.6148716807365417,\n",
       "  0.5412516593933105,\n",
       "  0.5012280941009521,\n",
       "  0.47526615858078003,\n",
       "  0.4568675458431244,\n",
       "  0.4430117905139923,\n",
       "  0.43177130818367004,\n",
       "  0.42240986227989197,\n",
       "  0.413717120885849],\n",
       " 'accuracy': [0.6743124723434448,\n",
       "  0.7772499918937683,\n",
       "  0.8063125014305115,\n",
       "  0.8215416669845581,\n",
       "  0.8338541388511658,\n",
       "  0.8390416502952576,\n",
       "  0.8442291617393494,\n",
       "  0.8491041660308838,\n",
       "  0.8509166836738586,\n",
       "  0.8542916774749756],\n",
       " 'val_loss': [0.6668369770050049,\n",
       "  0.5706855654716492,\n",
       "  0.5182426571846008,\n",
       "  0.49546414613723755,\n",
       "  0.47018977999687195,\n",
       "  0.4555361866950989,\n",
       "  0.4454992413520813,\n",
       "  0.43483108282089233,\n",
       "  0.43322449922561646,\n",
       "  0.43206408619880676],\n",
       " 'val_accuracy': [0.7627500295639038,\n",
       "  0.7917500138282776,\n",
       "  0.8140833377838135,\n",
       "  0.8199999928474426,\n",
       "  0.8298333287239075,\n",
       "  0.8392500281333923,\n",
       "  0.8411666750907898,\n",
       "  0.8445000052452087,\n",
       "  0.8460000157356262,\n",
       "  0.8429166674613953]}"
      ]
     },
     "execution_count": 51,
     "metadata": {},
     "output_type": "execute_result"
    }
   ],
   "source": [
    "historic.history"
   ]
  },
  {
   "cell_type": "code",
   "execution_count": 52,
   "id": "911e375d-1a61-44a5-8858-e8861ea0711a",
   "metadata": {},
   "outputs": [
    {
     "data": {
      "text/plain": [
       "[<matplotlib.lines.Line2D at 0x7ff4f262fd60>]"
      ]
     },
     "execution_count": 52,
     "metadata": {},
     "output_type": "execute_result"
    },
    {
     "data": {
      "image/png": "[encoded data removed]",
      "text/plain": [
       "<Figure size 864x360 with 1 Axes>"
      ]
     },
     "metadata": {
      "needs_background": "light"
     },
     "output_type": "display_data"
    }
   ],
   "source": [
    "plt.figure(figsize =(12,5))\n",
    "plt.title('Accuracy model')\n",
    "plt.ylabel('Accuracy')\n",
    "plt.xlabel('Epochs')\n",
    "plt.plot(historic.history['accuracy'])"
   ]
  },
  {
   "cell_type": "code",
   "execution_count": 53,
   "id": "a08b6654-7c62-4f28-871d-f2607879882a",
   "metadata": {},
   "outputs": [
    {
     "data": {
      "text/plain": [
       "[<matplotlib.lines.Line2D at 0x7ff5029cc0a0>]"
      ]
     },
     "execution_count": 53,
     "metadata": {},
     "output_type": "execute_result"
    },
    {
     "data": {
      "image/png": "[encoded data removed]",
      "text/plain": [
       "<Figure size 864x360 with 1 Axes>"
      ]
     },
     "metadata": {
      "needs_background": "light"
     },
     "output_type": "display_data"
    }
   ],
   "source": [
    "plt.figure(figsize =(12,5))\n",
    "plt.title('Accuracy model validation')\n",
    "plt.ylabel('Accuracy')\n",
    "plt.xlabel('Epochs')\n",
    "plt.plot(historic.history['val_accuracy'])"
   ]
  },
  {
   "cell_type": "code",
   "execution_count": 54,
   "id": "56b51426-9be4-4a4c-95c4-3da3876dc13c",
   "metadata": {},
   "outputs": [
    {
     "data": {
      "text/plain": [
       "<matplotlib.legend.Legend at 0x7ff4f2542730>"
      ]
     },
     "execution_count": 54,
     "metadata": {},
     "output_type": "execute_result"
    },
    {
     "data": {
      "image/png": "[encoded data removed]",
      "text/plain": [
       "<Figure size 1080x576 with 1 Axes>"
      ]
     },
     "metadata": {
      "needs_background": "light"
     },
     "output_type": "display_data"
    }
   ],
   "source": [
    "plt.figure(figsize = (15,8))\n",
    "plt.plot(historic.history['accuracy'])\n",
    "plt.plot(historic.history['val_accuracy'])\n",
    "plt.title('Accuracy per epoch', y = 1.05, fontsize = 12)\n",
    "plt.xlabel('Epoch', fontsize = 12)\n",
    "plt.ylabel('Accuracy', fontsize = 12)\n",
    "plt.legend(['Training', 'Validation'], fontsize = 10)\n"
   ]
  },
  {
   "cell_type": "markdown",
   "id": "5fa2ff06-476c-40a7-9a52-ade1a3b0874f",
   "metadata": {},
   "source": [
    "### <font color='green'>Including loss:</font>\n",
    "<hr style='border: 1px solid green;'>"
   ]
  },
  {
   "cell_type": "code",
   "execution_count": 55,
   "id": "428f0ee3-5c63-46d3-8e78-5450ca7d6226",
   "metadata": {},
   "outputs": [
    {
     "data": {
      "text/plain": [
       "<matplotlib.legend.Legend at 0x7ff510a11be0>"
      ]
     },
     "execution_count": 55,
     "metadata": {},
     "output_type": "execute_result"
    },
    {
     "data": {
      "image/png": "[encoded data removed]",
      "text/plain": [
       "<Figure size 1080x576 with 1 Axes>"
      ]
     },
     "metadata": {
      "needs_background": "light"
     },
     "output_type": "display_data"
    }
   ],
   "source": [
    "plt.figure(figsize = (15,8))\n",
    "plt.plot(historic.history['val_loss'])\n",
    "plt.plot(historic.history['loss'])\n",
    "plt.title('Loss per epoch', y = 1.05, fontsize = 12)\n",
    "plt.xlabel('Epoch', fontsize = 12)\n",
    "plt.ylabel('Accuracy and loss', fontsize = 12)\n",
    "plt.legend(['Training', 'Validation'], fontsize = 10)"
   ]
  },
  {
   "cell_type": "markdown",
   "id": "fdbae2b9-7a5e-44e6-8a2e-6ba35ee214db",
   "metadata": {},
   "source": [
    "**Is always interesting to have both graphics as close as possible**"
   ]
  },
  {
   "cell_type": "markdown",
   "id": "841ed379-bb35-479d-8a2d-36ab03263b33",
   "metadata": {},
   "source": [
    "### <font color='green'>Adding dropout parameter to the model:</font>\n",
    "<hr style='border: 1px solid green;'>"
   ]
  },
  {
   "cell_type": "code",
   "execution_count": 56,
   "id": "c8e1fa72-7b8c-4add-b8de-c8c870b3e766",
   "metadata": {},
   "outputs": [
    {
     "name": "stdout",
     "output_type": "stream",
     "text": [
      "Epoch 1/5\n",
      "1500/1500 [==============================] - 3s 2ms/step - loss: 1.5011 - accuracy: 0.5307 - val_loss: 0.6911 - val_accuracy: 0.7501\n",
      "Epoch 2/5\n",
      "1500/1500 [==============================] - 2s 1ms/step - loss: 0.6787 - accuracy: 0.7537 - val_loss: 0.5854 - val_accuracy: 0.7841\n",
      "Epoch 3/5\n",
      "1500/1500 [==============================] - 5s 3ms/step - loss: 0.5926 - accuracy: 0.7867 - val_loss: 0.5340 - val_accuracy: 0.8085\n",
      "Epoch 4/5\n",
      "1500/1500 [==============================] - 2s 2ms/step - loss: 0.5384 - accuracy: 0.8073 - val_loss: 0.5034 - val_accuracy: 0.8202\n",
      "Epoch 5/5\n",
      "1500/1500 [==============================] - 2s 1ms/step - loss: 0.5143 - accuracy: 0.8179 - val_loss: 0.4783 - val_accuracy: 0.8275\n"
     ]
    }
   ],
   "source": [
    "model = keras.Sequential([\n",
    "    keras.layers.Flatten(input_shape = (28,28)),\n",
    "    keras.layers.Dense(256, activation = tf.nn.relu),\n",
    "    keras.layers.Dropout(0.2),  #this means that 20% of our cells will be 'sleeping'\n",
    "    keras.layers.Dense(10, activation = tf.nn.softmax)      #10 like the number of classes we have\n",
    "])\n",
    "model.compile(optimizer = 'adam', loss = 'sparse_categorical_crossentropy', metrics = ['accuracy'])\n",
    "historic = model.fit(image_training, id_training, epochs = 5, validation_split = 0.2) #validation"
   ]
  },
  {
   "cell_type": "code",
   "execution_count": 57,
   "id": "c5306b6f-60d7-4361-8b58-55032ae96d2a",
   "metadata": {},
   "outputs": [
    {
     "data": {
      "text/plain": [
       "<matplotlib.legend.Legend at 0x7ff51115eb80>"
      ]
     },
     "execution_count": 57,
     "metadata": {},
     "output_type": "execute_result"
    },
    {
     "data": {
      "image/png": "[encoded data removed]",
      "text/plain": [
       "<Figure size 1080x576 with 1 Axes>"
      ]
     },
     "metadata": {
      "needs_background": "light"
     },
     "output_type": "display_data"
    }
   ],
   "source": [
    "plt.figure(figsize = (15,8))\n",
    "plt.plot(historic.history['accuracy'])\n",
    "plt.plot(historic.history['val_accuracy'])\n",
    "plt.title('Accuracy per epoch', y = 1.05, fontsize = 12)\n",
    "plt.xlabel('Epoch', fontsize = 12)\n",
    "plt.ylabel('Accuracy', fontsize = 12)\n",
    "plt.legend(['Training', 'Validation'], fontsize = 10)"
   ]
  },
  {
   "cell_type": "code",
   "execution_count": 58,
   "id": "535af874-6c62-4016-ab99-c25dd548b86f",
   "metadata": {},
   "outputs": [
    {
     "data": {
      "text/plain": [
       "<matplotlib.legend.Legend at 0x7ff4f284e160>"
      ]
     },
     "execution_count": 58,
     "metadata": {},
     "output_type": "execute_result"
    },
    {
     "data": {
      "image/png": "[encoded data removed]",
      "text/plain": [
       "<Figure size 1080x576 with 1 Axes>"
      ]
     },
     "metadata": {
      "needs_background": "light"
     },
     "output_type": "display_data"
    }
   ],
   "source": [
    "plt.figure(figsize = (15,8))\n",
    "plt.plot(historic.history['val_loss'])\n",
    "plt.plot(historic.history['loss'])\n",
    "plt.title('Loss per epoch', y = 1.05, fontsize = 12)\n",
    "plt.xlabel('Epoch', fontsize = 12)\n",
    "plt.ylabel('Accuracy and loss', fontsize = 12)\n",
    "plt.legend(['Training', 'Validation'], fontsize = 10)"
   ]
  },
  {
   "cell_type": "markdown",
   "id": "4cafff10-35f5-4193-a2b1-995deb507a8a",
   "metadata": {},
   "source": [
    "**Now we can see better results in our model after decreasing the number of active cells of the model**"
   ]
  },
  {
   "cell_type": "markdown",
   "id": "d904c120-175e-4048-8540-ff074b1fe0cb",
   "metadata": {},
   "source": [
    "# <font color='red'>Saving the model: </font>\n",
    "<hr style='border: 1px solid red;'>"
   ]
  },
  {
   "cell_type": "code",
   "execution_count": 59,
   "id": "26138969-4494-4413-8e8c-8c3f58f0f0ee",
   "metadata": {},
   "outputs": [],
   "source": [
    "from tensorflow.keras.models import load_model"
   ]
  },
  {
   "cell_type": "code",
   "execution_count": 60,
   "id": "77a29f95-0537-4add-8161-34ad649440dc",
   "metadata": {},
   "outputs": [],
   "source": [
    "model.save('model.h5')"
   ]
  },
  {
   "cell_type": "code",
   "execution_count": 61,
   "id": "23fb0f80-846c-4a1c-bdd8-e859558f3fa1",
   "metadata": {},
   "outputs": [],
   "source": [
    "model_saved = load_model('model.h5')"
   ]
  },
  {
   "cell_type": "code",
   "execution_count": 62,
   "id": "116735ec-8985-43a0-816c-e18ef5afccd7",
   "metadata": {},
   "outputs": [],
   "source": [
    "test = model.predict(image_test)"
   ]
  },
  {
   "cell_type": "code",
   "execution_count": 63,
   "id": "967585dd-9f72-4e33-a986-f8d9b94fe050",
   "metadata": {},
   "outputs": [
    {
     "name": "stdout",
     "output_type": "stream",
     "text": [
      "The text result is: 2\n",
      "The number of test image is: 2\n"
     ]
    }
   ],
   "source": [
    "print('The text result is:', np.argmax(test[1]))\n",
    "print('The number of test image is:', id_test[1])"
   ]
  },
  {
   "cell_type": "code",
   "execution_count": 64,
   "id": "f23abf68-b995-4042-8115-e998ede47b75",
   "metadata": {},
   "outputs": [],
   "source": [
    "test_model_saved = model_saved.predict(image_test)"
   ]
  },
  {
   "cell_type": "code",
   "execution_count": 65,
   "id": "313f48da-a79e-4b2e-b22b-20247dc092ec",
   "metadata": {},
   "outputs": [
    {
     "name": "stdout",
     "output_type": "stream",
     "text": [
      "The text result is: 2\n",
      "The number of test image is: 2\n"
     ]
    }
   ],
   "source": [
    "print('The text result is:', np.argmax(test_model_saved[1]))\n",
    "print('The number of test image is:', id_test[1])"
   ]
  },
  {
   "cell_type": "markdown",
   "id": "a996e286-2035-4ca1-8472-48389c3139fc",
   "metadata": {},
   "source": [
    "**All good**"
   ]
  },
  {
   "cell_type": "markdown",
   "id": "e5f182c4-1959-4cdb-8ee3-93d384f13e1c",
   "metadata": {},
   "source": [
    "***\n",
    "# <font color=purple size=10>Understanding behind Keras</font>\n",
    "***"
   ]
  },
  {
   "cell_type": "markdown",
   "id": "eecd8be4-9e54-4ab2-94cc-d0440c10d776",
   "metadata": {},
   "source": [
    "### <font color='green'>Model summary:</font>\n",
    "<hr style='border: 1px solid green;'>"
   ]
  },
  {
   "cell_type": "code",
   "execution_count": 67,
   "id": "bbe0350d-a45f-49dd-9a75-e532b9b272eb",
   "metadata": {},
   "outputs": [
    {
     "name": "stdout",
     "output_type": "stream",
     "text": [
      "Model: \"sequential_11\"\n",
      "_________________________________________________________________\n",
      "Layer (type)                 Output Shape              Param #   \n",
      "=================================================================\n",
      "flatten_11 (Flatten)         (None, 784)               0         \n",
      "_________________________________________________________________\n",
      "dense_22 (Dense)             (None, 256)               200960    \n",
      "_________________________________________________________________\n",
      "dropout (Dropout)            (None, 256)               0         \n",
      "_________________________________________________________________\n",
      "dense_23 (Dense)             (None, 10)                2570      \n",
      "=================================================================\n",
      "Total params: 203,530\n",
      "Trainable params: 203,530\n",
      "Non-trainable params: 0\n",
      "_________________________________________________________________\n"
     ]
    }
   ],
   "source": [
    "model_summary = model.summary()"
   ]
  },
  {
   "cell_type": "markdown",
   "id": "0767f8e5-13ef-4489-9396-5787f1116309",
   "metadata": {},
   "source": [
    "### <font color='green'>Understanding Weight :</font>\n",
    "<hr style='border: 1px solid green;'>"
   ]
  },
  {
   "cell_type": "markdown",
   "id": "194249dd-dbf2-40ce-9d4c-ecb4fa4a9334",
   "metadata": {},
   "source": [
    "**Just like a real neural web, our model have a 'path' that leads to the right answer and we are able to give more 'weight' to this path in order to reinforce that knowladge to our model to apply it to other situations with the same characteristics** "
   ]
  },
  {
   "cell_type": "code",
   "execution_count": 66,
   "id": "703693ec-12df-4862-bccd-2c36da24359b",
   "metadata": {},
   "outputs": [
    {
     "data": {
      "text/plain": [
       "[array([[-0.0687468 ,  0.03439654,  0.08052269, ..., -0.03057109,\n",
       "         -0.01921028,  0.09106319],\n",
       "        [ 0.04039445,  0.03469874, -0.09490414, ..., -0.1690572 ,\n",
       "          0.06191295, -0.05730261],\n",
       "        [-0.05290885,  0.06239713, -0.2504968 , ..., -0.19637552,\n",
       "         -0.00541802, -0.28034776],\n",
       "        ...,\n",
       "        [-0.05676764, -0.21419661, -0.4285352 , ...,  0.2519243 ,\n",
       "          0.05942716, -1.0147887 ],\n",
       "        [-0.0725567 , -0.04326506, -0.25233817, ...,  0.3147911 ,\n",
       "          0.04263499, -0.64580137],\n",
       "        [-0.04692959,  0.00450059, -0.27615216, ..., -0.00532882,\n",
       "          0.01968054, -0.27027863]], dtype=float32),\n",
       " array([-0.00554819,  0.07209098,  0.0840942 ,  0.27335036,  0.08630633,\n",
       "         0.02174421,  0.00107594,  0.00577732,  0.1258856 , -0.00680929,\n",
       "        -0.00904805, -0.00599495, -0.00967812,  0.0951884 ,  0.03779194,\n",
       "        -0.00777915, -0.00599781,  0.07225045, -0.00621188,  0.1419228 ,\n",
       "         0.12562369, -0.0278219 , -0.00600357,  0.06370269,  0.2095983 ,\n",
       "         0.04359962, -0.00593886, -0.00578399,  0.11290473,  0.06555542,\n",
       "         0.09075524,  0.16644555, -0.00709554,  0.14574684,  0.1104368 ,\n",
       "        -0.01037507,  0.13480249, -0.00995609,  0.09854304, -0.00833913,\n",
       "         0.01182579,  0.07484613,  0.19094424, -0.00600348,  0.01975576,\n",
       "        -0.00885327, -0.00555594, -0.00437446,  0.09141551, -0.00663963,\n",
       "         0.05519081,  0.14962314, -0.00600383,  0.03333732, -0.00688222,\n",
       "        -0.00943204,  0.07793916,  0.06115187,  0.08214474,  0.01809546,\n",
       "         0.09274805, -0.00648406,  0.09504719,  0.03235542, -0.00600205,\n",
       "         0.12221472, -0.00522086, -0.00600481, -0.00600307,  0.0788746 ,\n",
       "         0.1300188 , -0.03155347,  0.0348557 ,  0.10937133,  0.04880048,\n",
       "        -0.00600244, -0.02096408, -0.00600334, -0.00445262,  0.11075612,\n",
       "         0.15440305,  0.06598198,  0.16775706, -0.006002  , -0.00559896,\n",
       "         0.11149749, -0.00756044,  0.08199084, -0.00764975,  0.11928603,\n",
       "         0.19391416,  0.08494152,  0.03050146,  0.10816593,  0.08714693,\n",
       "         0.08939244,  0.12187804,  0.03945938,  0.05836345, -0.00599824,\n",
       "         0.08619566,  0.05837262, -0.00813749, -0.01388005,  0.03382894,\n",
       "        -0.00599963,  0.1952128 ,  0.19041108, -0.00511534,  0.015706  ,\n",
       "        -0.00374457, -0.00413383,  0.02435655,  0.07338037,  0.05355522,\n",
       "         0.1474016 , -0.00764631, -0.00566346,  0.1342619 ,  0.08909411,\n",
       "        -0.00619719, -0.00824017, -0.0059964 , -0.00653336, -0.00600406,\n",
       "         0.01610015,  0.04719887,  0.06276891,  0.08229735, -0.00602986,\n",
       "         0.10607325, -0.00600186,  0.04736063,  0.04695091,  0.14874947,\n",
       "        -0.00582409,  0.10168552,  0.08839921,  0.10296411, -0.00600371,\n",
       "        -0.00588054,  0.0990491 , -0.00599971, -0.00599578,  0.07888744,\n",
       "        -0.00570651, -0.0079333 , -0.00598835, -0.00845203,  0.03697868,\n",
       "        -0.00555534, -0.00740104,  0.13586484, -0.00600297,  0.14563994,\n",
       "         0.02820639,  0.09995008,  0.06241848,  0.04060477,  0.18136297,\n",
       "         0.02120191,  0.04105838, -0.00828375, -0.00567252, -0.00597302,\n",
       "        -0.00680522, -0.006002  ,  0.03281283,  0.05598635,  0.05307316,\n",
       "        -0.00597286, -0.00515744,  0.10268378,  0.12057938, -0.00138806,\n",
       "         0.04376506,  0.04988713, -0.00962006,  0.01494453,  0.08541097,\n",
       "         0.03176939, -0.00707759, -0.00485718,  0.05330017, -0.00397494,\n",
       "        -0.00882831,  0.09410375, -0.00911991, -0.01990578,  0.09159464,\n",
       "         0.02334246, -0.0060025 ,  0.09529882, -0.01363717,  0.02787314,\n",
       "         0.06177601,  0.10761818, -0.00509531,  0.13070242, -0.00599522,\n",
       "         0.08231673, -0.00600209,  0.11206233, -0.0059824 ,  0.12850797,\n",
       "         0.06953542,  0.08304086,  0.17287602, -0.00699589,  0.02759852,\n",
       "        -0.00845478,  0.09222112,  0.01574483, -0.00600297, -0.00917914,\n",
       "         0.09267167,  0.01372658,  0.12188357,  0.1392501 ,  0.00718552,\n",
       "         0.04090064, -0.00831533, -0.0069642 , -0.0074001 ,  0.03672271,\n",
       "        -0.00600477,  0.09127845, -0.00632137, -0.00629536,  0.05421482,\n",
       "         0.07253934, -0.00626634,  0.13784908,  0.09646553, -0.0078137 ,\n",
       "         0.19456355,  0.27348894,  0.10742794, -0.01011635,  0.0506408 ,\n",
       "         0.05193724, -0.00427051, -0.00494044,  0.06055858,  0.04450573,\n",
       "         0.00048419,  0.03787313,  0.10589942, -0.0060034 , -0.00599787,\n",
       "         0.04157797,  0.09647567,  0.01651097, -0.02464934, -0.00599593,\n",
       "         0.07369369], dtype=float32)]"
      ]
     },
     "execution_count": 66,
     "metadata": {},
     "output_type": "execute_result"
    }
   ],
   "source": [
    "model.layers[1].get_weights() #this will return two arrays, 1 - weights and 2 - bias"
   ]
  },
  {
   "cell_type": "code",
   "execution_count": 68,
   "id": "3cef8822-05df-4165-bf1b-8ec3dec2a624",
   "metadata": {},
   "outputs": [],
   "source": [
    "layer_dense_weight = model.layers[1].get_weights()[0]   #this is the weight for the first layer (dense_22 on summary) "
   ]
  },
  {
   "cell_type": "code",
   "execution_count": 69,
   "id": "1e4972a1-e7ac-4a1f-861b-292388546890",
   "metadata": {},
   "outputs": [
    {
     "data": {
      "text/plain": [
       "array([[-0.0687468 ,  0.03439654,  0.08052269, ..., -0.03057109,\n",
       "        -0.01921028,  0.09106319],\n",
       "       [ 0.04039445,  0.03469874, -0.09490414, ..., -0.1690572 ,\n",
       "         0.06191295, -0.05730261],\n",
       "       [-0.05290885,  0.06239713, -0.2504968 , ..., -0.19637552,\n",
       "        -0.00541802, -0.28034776],\n",
       "       ...,\n",
       "       [-0.05676764, -0.21419661, -0.4285352 , ...,  0.2519243 ,\n",
       "         0.05942716, -1.0147887 ],\n",
       "       [-0.0725567 , -0.04326506, -0.25233817, ...,  0.3147911 ,\n",
       "         0.04263499, -0.64580137],\n",
       "       [-0.04692959,  0.00450059, -0.27615216, ..., -0.00532882,\n",
       "         0.01968054, -0.27027863]], dtype=float32)"
      ]
     },
     "execution_count": 69,
     "metadata": {},
     "output_type": "execute_result"
    }
   ],
   "source": [
    "layer_dense_weight   "
   ]
  },
  {
   "cell_type": "code",
   "execution_count": null,
   "id": "d53ba5c3-112c-4969-84e8-8d5208fac8b5",
   "metadata": {},
   "outputs": [],
   "source": []
  },
  {
   "cell_type": "markdown",
   "id": "4b45234b-1a35-4ba6-8f96-3f20e3260ce1",
   "metadata": {},
   "source": [
    "### <font color='green'>Understanding Bias :</font>\n",
    "<hr style='border: 1px solid green;'>"
   ]
  },
  {
   "cell_type": "markdown",
   "id": "7cc19b01-6f6b-4854-bbe5-f120712b7ad2",
   "metadata": {},
   "source": [
    "**Bias is the tentendy of our model to go to one result**"
   ]
  },
  {
   "cell_type": "code",
   "execution_count": 73,
   "id": "bbdb0ee1-f7bd-4d94-9f13-f0027332255b",
   "metadata": {},
   "outputs": [],
   "source": [
    "bias_dense_model = model.layers[1].get_weights()[1]  #this get_weights()[1] will return the bias of the model for the first layer"
   ]
  },
  {
   "cell_type": "code",
   "execution_count": 72,
   "id": "6ed24126-548e-4b07-8afd-4726f97a01f9",
   "metadata": {},
   "outputs": [
    {
     "data": {
      "text/plain": [
       "array([-0.00554819,  0.07209098,  0.0840942 ,  0.27335036,  0.08630633,\n",
       "        0.02174421,  0.00107594,  0.00577732,  0.1258856 , -0.00680929,\n",
       "       -0.00904805, -0.00599495, -0.00967812,  0.0951884 ,  0.03779194,\n",
       "       -0.00777915, -0.00599781,  0.07225045, -0.00621188,  0.1419228 ,\n",
       "        0.12562369, -0.0278219 , -0.00600357,  0.06370269,  0.2095983 ,\n",
       "        0.04359962, -0.00593886, -0.00578399,  0.11290473,  0.06555542,\n",
       "        0.09075524,  0.16644555, -0.00709554,  0.14574684,  0.1104368 ,\n",
       "       -0.01037507,  0.13480249, -0.00995609,  0.09854304, -0.00833913,\n",
       "        0.01182579,  0.07484613,  0.19094424, -0.00600348,  0.01975576,\n",
       "       -0.00885327, -0.00555594, -0.00437446,  0.09141551, -0.00663963,\n",
       "        0.05519081,  0.14962314, -0.00600383,  0.03333732, -0.00688222,\n",
       "       -0.00943204,  0.07793916,  0.06115187,  0.08214474,  0.01809546,\n",
       "        0.09274805, -0.00648406,  0.09504719,  0.03235542, -0.00600205,\n",
       "        0.12221472, -0.00522086, -0.00600481, -0.00600307,  0.0788746 ,\n",
       "        0.1300188 , -0.03155347,  0.0348557 ,  0.10937133,  0.04880048,\n",
       "       -0.00600244, -0.02096408, -0.00600334, -0.00445262,  0.11075612,\n",
       "        0.15440305,  0.06598198,  0.16775706, -0.006002  , -0.00559896,\n",
       "        0.11149749, -0.00756044,  0.08199084, -0.00764975,  0.11928603,\n",
       "        0.19391416,  0.08494152,  0.03050146,  0.10816593,  0.08714693,\n",
       "        0.08939244,  0.12187804,  0.03945938,  0.05836345, -0.00599824,\n",
       "        0.08619566,  0.05837262, -0.00813749, -0.01388005,  0.03382894,\n",
       "       -0.00599963,  0.1952128 ,  0.19041108, -0.00511534,  0.015706  ,\n",
       "       -0.00374457, -0.00413383,  0.02435655,  0.07338037,  0.05355522,\n",
       "        0.1474016 , -0.00764631, -0.00566346,  0.1342619 ,  0.08909411,\n",
       "       -0.00619719, -0.00824017, -0.0059964 , -0.00653336, -0.00600406,\n",
       "        0.01610015,  0.04719887,  0.06276891,  0.08229735, -0.00602986,\n",
       "        0.10607325, -0.00600186,  0.04736063,  0.04695091,  0.14874947,\n",
       "       -0.00582409,  0.10168552,  0.08839921,  0.10296411, -0.00600371,\n",
       "       -0.00588054,  0.0990491 , -0.00599971, -0.00599578,  0.07888744,\n",
       "       -0.00570651, -0.0079333 , -0.00598835, -0.00845203,  0.03697868,\n",
       "       -0.00555534, -0.00740104,  0.13586484, -0.00600297,  0.14563994,\n",
       "        0.02820639,  0.09995008,  0.06241848,  0.04060477,  0.18136297,\n",
       "        0.02120191,  0.04105838, -0.00828375, -0.00567252, -0.00597302,\n",
       "       -0.00680522, -0.006002  ,  0.03281283,  0.05598635,  0.05307316,\n",
       "       -0.00597286, -0.00515744,  0.10268378,  0.12057938, -0.00138806,\n",
       "        0.04376506,  0.04988713, -0.00962006,  0.01494453,  0.08541097,\n",
       "        0.03176939, -0.00707759, -0.00485718,  0.05330017, -0.00397494,\n",
       "       -0.00882831,  0.09410375, -0.00911991, -0.01990578,  0.09159464,\n",
       "        0.02334246, -0.0060025 ,  0.09529882, -0.01363717,  0.02787314,\n",
       "        0.06177601,  0.10761818, -0.00509531,  0.13070242, -0.00599522,\n",
       "        0.08231673, -0.00600209,  0.11206233, -0.0059824 ,  0.12850797,\n",
       "        0.06953542,  0.08304086,  0.17287602, -0.00699589,  0.02759852,\n",
       "       -0.00845478,  0.09222112,  0.01574483, -0.00600297, -0.00917914,\n",
       "        0.09267167,  0.01372658,  0.12188357,  0.1392501 ,  0.00718552,\n",
       "        0.04090064, -0.00831533, -0.0069642 , -0.0074001 ,  0.03672271,\n",
       "       -0.00600477,  0.09127845, -0.00632137, -0.00629536,  0.05421482,\n",
       "        0.07253934, -0.00626634,  0.13784908,  0.09646553, -0.0078137 ,\n",
       "        0.19456355,  0.27348894,  0.10742794, -0.01011635,  0.0506408 ,\n",
       "        0.05193724, -0.00427051, -0.00494044,  0.06055858,  0.04450573,\n",
       "        0.00048419,  0.03787313,  0.10589942, -0.0060034 , -0.00599787,\n",
       "        0.04157797,  0.09647567,  0.01651097, -0.02464934, -0.00599593,\n",
       "        0.07369369], dtype=float32)"
      ]
     },
     "execution_count": 72,
     "metadata": {},
     "output_type": "execute_result"
    }
   ],
   "source": [
    "bias_dense_model"
   ]
  },
  {
   "cell_type": "markdown",
   "id": "21fc19ce-f786-4643-af5e-c956c0e6c229",
   "metadata": {},
   "source": [
    "# <font color='red'>Restarting the weights to 0: </font>\n",
    "<hr style='border: 1px solid red;'>"
   ]
  },
  {
   "cell_type": "code",
   "execution_count": 86,
   "id": "a0e0eff8-0a1d-49fb-bebf-92047f2ac198",
   "metadata": {},
   "outputs": [
    {
     "data": {
      "text/plain": [
       "(784, 256)"
      ]
     },
     "execution_count": 86,
     "metadata": {},
     "output_type": "execute_result"
    }
   ],
   "source": [
    "layer_dense_weight.shape"
   ]
  },
  {
   "cell_type": "code",
   "execution_count": 87,
   "id": "34b05ce4-0b50-41eb-a5d4-0b4c86f0f11c",
   "metadata": {},
   "outputs": [],
   "source": [
    "layer_dense_weight_restarted = np.zeros((784, 256))"
   ]
  },
  {
   "cell_type": "code",
   "execution_count": 88,
   "id": "094abdda-9be2-4b20-9351-ad4eacebc69c",
   "metadata": {},
   "outputs": [
    {
     "data": {
      "text/plain": [
       "array([[0., 0., 0., ..., 0., 0., 0.],\n",
       "       [0., 0., 0., ..., 0., 0., 0.],\n",
       "       [0., 0., 0., ..., 0., 0., 0.],\n",
       "       ...,\n",
       "       [0., 0., 0., ..., 0., 0., 0.],\n",
       "       [0., 0., 0., ..., 0., 0., 0.],\n",
       "       [0., 0., 0., ..., 0., 0., 0.]])"
      ]
     },
     "execution_count": 88,
     "metadata": {},
     "output_type": "execute_result"
    }
   ],
   "source": [
    "layer_dense_weight_restarted"
   ]
  },
  {
   "cell_type": "code",
   "execution_count": 89,
   "id": "42c21dce-5970-46b2-9ed9-23efb5d4f4ab",
   "metadata": {},
   "outputs": [],
   "source": [
    "model.layers[1].set_weights([layer_dense_weight_restarted, bias_dense_model])"
   ]
  },
  {
   "cell_type": "code",
   "execution_count": 90,
   "id": "f62d7473-e91b-492d-9f6d-b9055190d359",
   "metadata": {},
   "outputs": [
    {
     "data": {
      "text/plain": [
       "[array([[0., 0., 0., ..., 0., 0., 0.],\n",
       "        [0., 0., 0., ..., 0., 0., 0.],\n",
       "        [0., 0., 0., ..., 0., 0., 0.],\n",
       "        ...,\n",
       "        [0., 0., 0., ..., 0., 0., 0.],\n",
       "        [0., 0., 0., ..., 0., 0., 0.],\n",
       "        [0., 0., 0., ..., 0., 0., 0.]], dtype=float32),\n",
       " array([-0.00554819,  0.07209098,  0.0840942 ,  0.27335036,  0.08630633,\n",
       "         0.02174421,  0.00107594,  0.00577732,  0.1258856 , -0.00680929,\n",
       "        -0.00904805, -0.00599495, -0.00967812,  0.0951884 ,  0.03779194,\n",
       "        -0.00777915, -0.00599781,  0.07225045, -0.00621188,  0.1419228 ,\n",
       "         0.12562369, -0.0278219 , -0.00600357,  0.06370269,  0.2095983 ,\n",
       "         0.04359962, -0.00593886, -0.00578399,  0.11290473,  0.06555542,\n",
       "         0.09075524,  0.16644555, -0.00709554,  0.14574684,  0.1104368 ,\n",
       "        -0.01037507,  0.13480249, -0.00995609,  0.09854304, -0.00833913,\n",
       "         0.01182579,  0.07484613,  0.19094424, -0.00600348,  0.01975576,\n",
       "        -0.00885327, -0.00555594, -0.00437446,  0.09141551, -0.00663963,\n",
       "         0.05519081,  0.14962314, -0.00600383,  0.03333732, -0.00688222,\n",
       "        -0.00943204,  0.07793916,  0.06115187,  0.08214474,  0.01809546,\n",
       "         0.09274805, -0.00648406,  0.09504719,  0.03235542, -0.00600205,\n",
       "         0.12221472, -0.00522086, -0.00600481, -0.00600307,  0.0788746 ,\n",
       "         0.1300188 , -0.03155347,  0.0348557 ,  0.10937133,  0.04880048,\n",
       "        -0.00600244, -0.02096408, -0.00600334, -0.00445262,  0.11075612,\n",
       "         0.15440305,  0.06598198,  0.16775706, -0.006002  , -0.00559896,\n",
       "         0.11149749, -0.00756044,  0.08199084, -0.00764975,  0.11928603,\n",
       "         0.19391416,  0.08494152,  0.03050146,  0.10816593,  0.08714693,\n",
       "         0.08939244,  0.12187804,  0.03945938,  0.05836345, -0.00599824,\n",
       "         0.08619566,  0.05837262, -0.00813749, -0.01388005,  0.03382894,\n",
       "        -0.00599963,  0.1952128 ,  0.19041108, -0.00511534,  0.015706  ,\n",
       "        -0.00374457, -0.00413383,  0.02435655,  0.07338037,  0.05355522,\n",
       "         0.1474016 , -0.00764631, -0.00566346,  0.1342619 ,  0.08909411,\n",
       "        -0.00619719, -0.00824017, -0.0059964 , -0.00653336, -0.00600406,\n",
       "         0.01610015,  0.04719887,  0.06276891,  0.08229735, -0.00602986,\n",
       "         0.10607325, -0.00600186,  0.04736063,  0.04695091,  0.14874947,\n",
       "        -0.00582409,  0.10168552,  0.08839921,  0.10296411, -0.00600371,\n",
       "        -0.00588054,  0.0990491 , -0.00599971, -0.00599578,  0.07888744,\n",
       "        -0.00570651, -0.0079333 , -0.00598835, -0.00845203,  0.03697868,\n",
       "        -0.00555534, -0.00740104,  0.13586484, -0.00600297,  0.14563994,\n",
       "         0.02820639,  0.09995008,  0.06241848,  0.04060477,  0.18136297,\n",
       "         0.02120191,  0.04105838, -0.00828375, -0.00567252, -0.00597302,\n",
       "        -0.00680522, -0.006002  ,  0.03281283,  0.05598635,  0.05307316,\n",
       "        -0.00597286, -0.00515744,  0.10268378,  0.12057938, -0.00138806,\n",
       "         0.04376506,  0.04988713, -0.00962006,  0.01494453,  0.08541097,\n",
       "         0.03176939, -0.00707759, -0.00485718,  0.05330017, -0.00397494,\n",
       "        -0.00882831,  0.09410375, -0.00911991, -0.01990578,  0.09159464,\n",
       "         0.02334246, -0.0060025 ,  0.09529882, -0.01363717,  0.02787314,\n",
       "         0.06177601,  0.10761818, -0.00509531,  0.13070242, -0.00599522,\n",
       "         0.08231673, -0.00600209,  0.11206233, -0.0059824 ,  0.12850797,\n",
       "         0.06953542,  0.08304086,  0.17287602, -0.00699589,  0.02759852,\n",
       "        -0.00845478,  0.09222112,  0.01574483, -0.00600297, -0.00917914,\n",
       "         0.09267167,  0.01372658,  0.12188357,  0.1392501 ,  0.00718552,\n",
       "         0.04090064, -0.00831533, -0.0069642 , -0.0074001 ,  0.03672271,\n",
       "        -0.00600477,  0.09127845, -0.00632137, -0.00629536,  0.05421482,\n",
       "         0.07253934, -0.00626634,  0.13784908,  0.09646553, -0.0078137 ,\n",
       "         0.19456355,  0.27348894,  0.10742794, -0.01011635,  0.0506408 ,\n",
       "         0.05193724, -0.00427051, -0.00494044,  0.06055858,  0.04450573,\n",
       "         0.00048419,  0.03787313,  0.10589942, -0.0060034 , -0.00599787,\n",
       "         0.04157797,  0.09647567,  0.01651097, -0.02464934, -0.00599593,\n",
       "         0.07369369], dtype=float32)]"
      ]
     },
     "execution_count": 90,
     "metadata": {},
     "output_type": "execute_result"
    }
   ],
   "source": [
    "model.layers[1].get_weights()"
   ]
  },
  {
   "cell_type": "markdown",
   "id": "9df13171-4d28-4e09-92db-d9322994aa82",
   "metadata": {},
   "source": [
    "### <font color='green'>Model with 0 weights:</font>\n",
    "<hr style='border: 1px solid green;'>"
   ]
  },
  {
   "cell_type": "code",
   "execution_count": 91,
   "id": "6b81a5cb-4b1d-4957-8943-d1c7f1e9a92c",
   "metadata": {},
   "outputs": [
    {
     "name": "stdout",
     "output_type": "stream",
     "text": [
      "Epoch 1/5\n",
      "1500/1500 [==============================] - 4s 2ms/step - loss: 1.3725 - accuracy: 0.5708 - val_loss: 0.6436 - val_accuracy: 0.7744\n",
      "Epoch 2/5\n",
      "1500/1500 [==============================] - 2s 1ms/step - loss: 0.6304 - accuracy: 0.7803 - val_loss: 0.5472 - val_accuracy: 0.8082\n",
      "Epoch 3/5\n",
      "1500/1500 [==============================] - 2s 1ms/step - loss: 0.5539 - accuracy: 0.8042 - val_loss: 0.5044 - val_accuracy: 0.8196\n",
      "Epoch 4/5\n",
      "1500/1500 [==============================] - 2s 1ms/step - loss: 0.5150 - accuracy: 0.8202 - val_loss: 0.4785 - val_accuracy: 0.8281\n",
      "Epoch 5/5\n",
      "1500/1500 [==============================] - 2s 1ms/step - loss: 0.4821 - accuracy: 0.8281 - val_loss: 0.4565 - val_accuracy: 0.8378\n"
     ]
    }
   ],
   "source": [
    "model.compile(optimizer = 'adam', loss = 'sparse_categorical_crossentropy', metrics = ['accuracy'])\n",
    "historic = model.fit(image_training, id_training, epochs = 5, validation_split = 0.2) #validation"
   ]
  },
  {
   "cell_type": "markdown",
   "id": "bfb5fc80-1622-4d16-aee8-4e27f97f0948",
   "metadata": {},
   "source": [
    "### <font color='green'>Graphic analysis </font>\n",
    "<hr style='border: 1px solid green;'>"
   ]
  },
  {
   "cell_type": "code",
   "execution_count": 92,
   "id": "09935f6b-c077-4788-953d-96b8c8ebb35f",
   "metadata": {},
   "outputs": [
    {
     "data": {
      "text/plain": [
       "<matplotlib.legend.Legend at 0x7ff4f27cafd0>"
      ]
     },
     "execution_count": 92,
     "metadata": {},
     "output_type": "execute_result"
    },
    {
     "data": {
      "image/png": "[encoded data removed]",
      "text/plain": [
       "<Figure size 1080x576 with 1 Axes>"
      ]
     },
     "metadata": {
      "needs_background": "light"
     },
     "output_type": "display_data"
    }
   ],
   "source": [
    "plt.figure(figsize = (15,8))\n",
    "plt.plot(historic.history['accuracy'])\n",
    "plt.plot(historic.history['val_accuracy'])\n",
    "plt.title('Accuracy per epoch', y = 1.05, fontsize = 12)\n",
    "plt.xlabel('Epoch', fontsize = 12)\n",
    "plt.ylabel('Accuracy', fontsize = 12)\n",
    "plt.legend(['Training', 'Validation'], fontsize = 10)"
   ]
  },
  {
   "cell_type": "code",
   "execution_count": null,
   "id": "1ea41d2d-0e5b-4f8b-839c-ad3e35f4f527",
   "metadata": {},
   "outputs": [],
   "source": []
  },
  {
   "cell_type": "code",
   "execution_count": 93,
   "id": "573769ff-6d1a-45b2-8fa8-f46738b38cc5",
   "metadata": {},
   "outputs": [
    {
     "data": {
      "text/plain": [
       "<matplotlib.legend.Legend at 0x7ff4f27f4580>"
      ]
     },
     "execution_count": 93,
     "metadata": {},
     "output_type": "execute_result"
    },
    {
     "data": {
      "image/png": "[encoded data removed]",
      "text/plain": [
       "<Figure size 1080x576 with 1 Axes>"
      ]
     },
     "metadata": {
      "needs_background": "light"
     },
     "output_type": "display_data"
    }
   ],
   "source": [
    "plt.figure(figsize = (15,8))\n",
    "plt.plot(historic.history['val_loss'])\n",
    "plt.plot(historic.history['loss'])\n",
    "plt.title('Loss per epoch', y = 1.05, fontsize = 12)\n",
    "plt.xlabel('Epoch', fontsize = 12)\n",
    "plt.ylabel('Accuracy and loss', fontsize = 12)\n",
    "plt.legend(['Training', 'Validation'], fontsize = 10)"
   ]
  },
  {
   "cell_type": "markdown",
   "id": "cf26d309-67db-40d6-8fc7-2a2170e8ea21",
   "metadata": {},
   "source": [
    "# <font color='red'>Using aleatory numbers for the weights: </font>\n",
    "<hr style='border: 1px solid red;'>"
   ]
  },
  {
   "cell_type": "code",
   "execution_count": 95,
   "id": "d28183ef-6c23-4ff9-857a-74ec9e0dda31",
   "metadata": {},
   "outputs": [],
   "source": [
    "layer_dense_weight.shape\n",
    "layer_dense_aleatory = np.random.rand(784, 256)"
   ]
  },
  {
   "cell_type": "code",
   "execution_count": 96,
   "id": "14e1d1b0-e503-491b-84b4-6cd104b1ca66",
   "metadata": {},
   "outputs": [],
   "source": [
    "model.layers[1].set_weights([layer_dense_aleatory, bias_dense_model])"
   ]
  },
  {
   "cell_type": "code",
   "execution_count": 97,
   "id": "f81fba53-60ea-4ea0-b973-2d3c12b5d549",
   "metadata": {},
   "outputs": [
    {
     "data": {
      "text/plain": [
       "[array([[0.7688936 , 0.8374405 , 0.09747999, ..., 0.04959361, 0.98617244,\n",
       "         0.7471288 ],\n",
       "        [0.6786832 , 0.3313332 , 0.3345901 , ..., 0.84882087, 0.7882812 ,\n",
       "         0.99625957],\n",
       "        [0.6792047 , 0.7010681 , 0.7907075 , ..., 0.23173079, 0.9612224 ,\n",
       "         0.44280776],\n",
       "        ...,\n",
       "        [0.4068441 , 0.19545503, 0.18239368, ..., 0.3881423 , 0.41848   ,\n",
       "         0.19396685],\n",
       "        [0.8817571 , 0.9119895 , 0.39456078, ..., 0.33888376, 0.08414024,\n",
       "         0.73202294],\n",
       "        [0.73074186, 0.61053824, 0.33820862, ..., 0.9248961 , 0.6490916 ,\n",
       "         0.34124774]], dtype=float32),\n",
       " array([-0.00554819,  0.07209098,  0.0840942 ,  0.27335036,  0.08630633,\n",
       "         0.02174421,  0.00107594,  0.00577732,  0.1258856 , -0.00680929,\n",
       "        -0.00904805, -0.00599495, -0.00967812,  0.0951884 ,  0.03779194,\n",
       "        -0.00777915, -0.00599781,  0.07225045, -0.00621188,  0.1419228 ,\n",
       "         0.12562369, -0.0278219 , -0.00600357,  0.06370269,  0.2095983 ,\n",
       "         0.04359962, -0.00593886, -0.00578399,  0.11290473,  0.06555542,\n",
       "         0.09075524,  0.16644555, -0.00709554,  0.14574684,  0.1104368 ,\n",
       "        -0.01037507,  0.13480249, -0.00995609,  0.09854304, -0.00833913,\n",
       "         0.01182579,  0.07484613,  0.19094424, -0.00600348,  0.01975576,\n",
       "        -0.00885327, -0.00555594, -0.00437446,  0.09141551, -0.00663963,\n",
       "         0.05519081,  0.14962314, -0.00600383,  0.03333732, -0.00688222,\n",
       "        -0.00943204,  0.07793916,  0.06115187,  0.08214474,  0.01809546,\n",
       "         0.09274805, -0.00648406,  0.09504719,  0.03235542, -0.00600205,\n",
       "         0.12221472, -0.00522086, -0.00600481, -0.00600307,  0.0788746 ,\n",
       "         0.1300188 , -0.03155347,  0.0348557 ,  0.10937133,  0.04880048,\n",
       "        -0.00600244, -0.02096408, -0.00600334, -0.00445262,  0.11075612,\n",
       "         0.15440305,  0.06598198,  0.16775706, -0.006002  , -0.00559896,\n",
       "         0.11149749, -0.00756044,  0.08199084, -0.00764975,  0.11928603,\n",
       "         0.19391416,  0.08494152,  0.03050146,  0.10816593,  0.08714693,\n",
       "         0.08939244,  0.12187804,  0.03945938,  0.05836345, -0.00599824,\n",
       "         0.08619566,  0.05837262, -0.00813749, -0.01388005,  0.03382894,\n",
       "        -0.00599963,  0.1952128 ,  0.19041108, -0.00511534,  0.015706  ,\n",
       "        -0.00374457, -0.00413383,  0.02435655,  0.07338037,  0.05355522,\n",
       "         0.1474016 , -0.00764631, -0.00566346,  0.1342619 ,  0.08909411,\n",
       "        -0.00619719, -0.00824017, -0.0059964 , -0.00653336, -0.00600406,\n",
       "         0.01610015,  0.04719887,  0.06276891,  0.08229735, -0.00602986,\n",
       "         0.10607325, -0.00600186,  0.04736063,  0.04695091,  0.14874947,\n",
       "        -0.00582409,  0.10168552,  0.08839921,  0.10296411, -0.00600371,\n",
       "        -0.00588054,  0.0990491 , -0.00599971, -0.00599578,  0.07888744,\n",
       "        -0.00570651, -0.0079333 , -0.00598835, -0.00845203,  0.03697868,\n",
       "        -0.00555534, -0.00740104,  0.13586484, -0.00600297,  0.14563994,\n",
       "         0.02820639,  0.09995008,  0.06241848,  0.04060477,  0.18136297,\n",
       "         0.02120191,  0.04105838, -0.00828375, -0.00567252, -0.00597302,\n",
       "        -0.00680522, -0.006002  ,  0.03281283,  0.05598635,  0.05307316,\n",
       "        -0.00597286, -0.00515744,  0.10268378,  0.12057938, -0.00138806,\n",
       "         0.04376506,  0.04988713, -0.00962006,  0.01494453,  0.08541097,\n",
       "         0.03176939, -0.00707759, -0.00485718,  0.05330017, -0.00397494,\n",
       "        -0.00882831,  0.09410375, -0.00911991, -0.01990578,  0.09159464,\n",
       "         0.02334246, -0.0060025 ,  0.09529882, -0.01363717,  0.02787314,\n",
       "         0.06177601,  0.10761818, -0.00509531,  0.13070242, -0.00599522,\n",
       "         0.08231673, -0.00600209,  0.11206233, -0.0059824 ,  0.12850797,\n",
       "         0.06953542,  0.08304086,  0.17287602, -0.00699589,  0.02759852,\n",
       "        -0.00845478,  0.09222112,  0.01574483, -0.00600297, -0.00917914,\n",
       "         0.09267167,  0.01372658,  0.12188357,  0.1392501 ,  0.00718552,\n",
       "         0.04090064, -0.00831533, -0.0069642 , -0.0074001 ,  0.03672271,\n",
       "        -0.00600477,  0.09127845, -0.00632137, -0.00629536,  0.05421482,\n",
       "         0.07253934, -0.00626634,  0.13784908,  0.09646553, -0.0078137 ,\n",
       "         0.19456355,  0.27348894,  0.10742794, -0.01011635,  0.0506408 ,\n",
       "         0.05193724, -0.00427051, -0.00494044,  0.06055858,  0.04450573,\n",
       "         0.00048419,  0.03787313,  0.10589942, -0.0060034 , -0.00599787,\n",
       "         0.04157797,  0.09647567,  0.01651097, -0.02464934, -0.00599593,\n",
       "         0.07369369], dtype=float32)]"
      ]
     },
     "execution_count": 97,
     "metadata": {},
     "output_type": "execute_result"
    }
   ],
   "source": [
    "model.layers[1].get_weights()"
   ]
  },
  {
   "cell_type": "markdown",
   "id": "946b0c0c-d428-4ee2-8c20-0d2d0ac1207a",
   "metadata": {},
   "source": [
    "### <font color='green'>Model with aleatory weights:</font>\n",
    "<hr style='border: 1px solid green;'>"
   ]
  },
  {
   "cell_type": "code",
   "execution_count": 99,
   "id": "db8e8c57-ae36-45b7-95ea-89b137f90b8d",
   "metadata": {},
   "outputs": [
    {
     "name": "stdout",
     "output_type": "stream",
     "text": [
      "Epoch 1/5\n",
      "1500/1500 [==============================] - 4s 2ms/step - loss: 3.4646 - accuracy: 0.3597 - val_loss: 0.6673 - val_accuracy: 0.7628\n",
      "Epoch 2/5\n",
      "1500/1500 [==============================] - 2s 1ms/step - loss: 0.8585 - accuracy: 0.7231 - val_loss: 0.5980 - val_accuracy: 0.7858\n",
      "Epoch 3/5\n",
      "1500/1500 [==============================] - 2s 1ms/step - loss: 0.6777 - accuracy: 0.7666 - val_loss: 0.5482 - val_accuracy: 0.8086\n",
      "Epoch 4/5\n",
      "1500/1500 [==============================] - 2s 1ms/step - loss: 0.6036 - accuracy: 0.7907 - val_loss: 0.5169 - val_accuracy: 0.8203\n",
      "Epoch 5/5\n",
      "1500/1500 [==============================] - 2s 2ms/step - loss: 0.5600 - accuracy: 0.8094 - val_loss: 0.5093 - val_accuracy: 0.8178\n"
     ]
    }
   ],
   "source": [
    "model.compile(optimizer = 'adam', loss = 'sparse_categorical_crossentropy', metrics = ['accuracy'])\n",
    "historic = model.fit(image_training, id_training, epochs = 5, validation_split = 0.2) #validation"
   ]
  },
  {
   "cell_type": "markdown",
   "id": "49d983a7-e987-4c63-9578-cec1e659f8ed",
   "metadata": {},
   "source": [
    "### <font color='green'>Graphic analysis </font>\n",
    "<hr style='border: 1px solid green;'>"
   ]
  },
  {
   "cell_type": "code",
   "execution_count": 100,
   "id": "e6c66b29-d18b-4ccf-8a0e-5b764fdccb43",
   "metadata": {},
   "outputs": [
    {
     "data": {
      "text/plain": [
       "<matplotlib.legend.Legend at 0x7ff4f283e190>"
      ]
     },
     "execution_count": 100,
     "metadata": {},
     "output_type": "execute_result"
    },
    {
     "data": {
      "image/png": "[encoded data removed]",
      "text/plain": [
       "<Figure size 1080x576 with 1 Axes>"
      ]
     },
     "metadata": {
      "needs_background": "light"
     },
     "output_type": "display_data"
    }
   ],
   "source": [
    "plt.figure(figsize = (15,8))\n",
    "plt.plot(historic.history['accuracy'])\n",
    "plt.plot(historic.history['val_accuracy'])\n",
    "plt.title('Accuracy per epoch', y = 1.05, fontsize = 12)\n",
    "plt.xlabel('Epoch', fontsize = 12)\n",
    "plt.ylabel('Accuracy', fontsize = 12)\n",
    "plt.legend(['Training', 'Validation'], fontsize = 10)"
   ]
  },
  {
   "cell_type": "code",
   "execution_count": 101,
   "id": "cb2aa4a9-9da2-4820-9d9c-e75174ea8adc",
   "metadata": {},
   "outputs": [
    {
     "data": {
      "text/plain": [
       "<matplotlib.legend.Legend at 0x7ff5032b5d60>"
      ]
     },
     "execution_count": 101,
     "metadata": {},
     "output_type": "execute_result"
    },
    {
     "data": {
      "image/png": "[encoded data removed]",
      "text/plain": [
       "<Figure size 1080x576 with 1 Axes>"
      ]
     },
     "metadata": {
      "needs_background": "light"
     },
     "output_type": "display_data"
    }
   ],
   "source": [
    "plt.figure(figsize = (15,8))\n",
    "plt.plot(historic.history['val_loss'])\n",
    "plt.plot(historic.history['loss'])\n",
    "plt.title('Loss per epoch', y = 1.05, fontsize = 12)\n",
    "plt.xlabel('Epoch', fontsize = 12)\n",
    "plt.ylabel('Accuracy and loss', fontsize = 12)\n",
    "plt.legend(['Training', 'Validation'], fontsize = 10)"
   ]
  },
  {
   "cell_type": "code",
   "execution_count": 103,
   "id": "bc4a2e0e-0705-4bc5-a895-85da2326a450",
   "metadata": {},
   "outputs": [
    {
     "data": {
      "text/plain": [
       "{'name': 'sequential_11',\n",
       " 'layers': [{'class_name': 'InputLayer',\n",
       "   'config': {'batch_input_shape': (None, 28, 28),\n",
       "    'dtype': 'float32',\n",
       "    'sparse': False,\n",
       "    'ragged': False,\n",
       "    'name': 'flatten_11_input'}},\n",
       "  {'class_name': 'Flatten',\n",
       "   'config': {'name': 'flatten_11',\n",
       "    'trainable': True,\n",
       "    'batch_input_shape': (None, 28, 28),\n",
       "    'dtype': 'float32',\n",
       "    'data_format': 'channels_last'}},\n",
       "  {'class_name': 'Dense',\n",
       "   'config': {'name': 'dense_22',\n",
       "    'trainable': True,\n",
       "    'dtype': 'float32',\n",
       "    'units': 256,\n",
       "    'activation': 'relu',\n",
       "    'use_bias': True,\n",
       "    'kernel_initializer': {'class_name': 'GlorotUniform',\n",
       "     'config': {'seed': None}},\n",
       "    'bias_initializer': {'class_name': 'Zeros', 'config': {}},\n",
       "    'kernel_regularizer': None,\n",
       "    'bias_regularizer': None,\n",
       "    'activity_regularizer': None,\n",
       "    'kernel_constraint': None,\n",
       "    'bias_constraint': None}},\n",
       "  {'class_name': 'Dropout',\n",
       "   'config': {'name': 'dropout',\n",
       "    'trainable': True,\n",
       "    'dtype': 'float32',\n",
       "    'rate': 0.2,\n",
       "    'noise_shape': None,\n",
       "    'seed': None}},\n",
       "  {'class_name': 'Dense',\n",
       "   'config': {'name': 'dense_23',\n",
       "    'trainable': True,\n",
       "    'dtype': 'float32',\n",
       "    'units': 10,\n",
       "    'activation': 'softmax',\n",
       "    'use_bias': True,\n",
       "    'kernel_initializer': {'class_name': 'GlorotUniform',\n",
       "     'config': {'seed': None}},\n",
       "    'bias_initializer': {'class_name': 'Zeros', 'config': {}},\n",
       "    'kernel_regularizer': None,\n",
       "    'bias_regularizer': None,\n",
       "    'activity_regularizer': None,\n",
       "    'kernel_constraint': None,\n",
       "    'bias_constraint': None}}]}"
      ]
     },
     "execution_count": 103,
     "metadata": {},
     "output_type": "execute_result"
    }
   ],
   "source": [
    "model.get_config()"
   ]
  },
  {
   "cell_type": "markdown",
   "id": "88a71159-3046-46cf-b9f0-935af4c2826d",
   "metadata": {},
   "source": [
    "# <font color='red'>Highparameters: </font>\n",
    "<hr style='border: 1px solid red;'>"
   ]
  },
  {
   "cell_type": "code",
   "execution_count": 105,
   "id": "244800f3-cf4d-40ae-a64c-715b8a5fff12",
   "metadata": {},
   "outputs": [
    {
     "name": "stdout",
     "output_type": "stream",
     "text": [
      "Epoch 1/5\n",
      "1500/1500 [==============================] - 7s 4ms/step - loss: 1.5208 - accuracy: 0.5233 - val_loss: 0.7089 - val_accuracy: 0.7519\n",
      "Epoch 2/5\n",
      "1500/1500 [==============================] - 2s 2ms/step - loss: 0.6971 - accuracy: 0.7506 - val_loss: 0.6012 - val_accuracy: 0.7812\n",
      "Epoch 3/5\n",
      "1500/1500 [==============================] - 3s 2ms/step - loss: 0.6015 - accuracy: 0.7809 - val_loss: 0.5419 - val_accuracy: 0.8042\n",
      "Epoch 4/5\n",
      "1500/1500 [==============================] - 3s 2ms/step - loss: 0.5519 - accuracy: 0.8009 - val_loss: 0.5088 - val_accuracy: 0.8164\n",
      "Epoch 5/5\n",
      "1500/1500 [==============================] - 3s 2ms/step - loss: 0.5153 - accuracy: 0.8152 - val_loss: 0.4865 - val_accuracy: 0.8269\n"
     ]
    }
   ],
   "source": [
    "model = keras.Sequential([\n",
    "    keras.layers.Flatten(input_shape = (28,28)),\n",
    "    keras.layers.Dense(256, activation = tf.nn.relu),\n",
    "    keras.layers.Dropout(0.2),  #this means that 20% of our cells will be 'sleeping'\n",
    "    keras.layers.Dense(10, activation = tf.nn.softmax)      #10 like the number of classes we have\n",
    "])\n",
    "\n",
    "adam = keras.optimizers.Adam(lr = 0.001) #lr = learning rate\n",
    "\n",
    "model.compile(optimizer = adam, loss = 'sparse_categorical_crossentropy', metrics = ['accuracy'])\n",
    "historic = model.fit(image_training, id_training, epochs = 5, validation_split = 0.2) #validation"
   ]
  },
  {
   "cell_type": "code",
   "execution_count": 109,
   "id": "acabbbd0-714d-4e36-9f43-f24b322cddc2",
   "metadata": {},
   "outputs": [
    {
     "name": "stdout",
     "output_type": "stream",
     "text": [
      "Epoch 1/5\n",
      "1500/1500 [==============================] - 3s 2ms/step - loss: 1.0286 - accuracy: 0.6469 - val_loss: 0.5218 - val_accuracy: 0.8080\n",
      "Epoch 2/5\n",
      "1500/1500 [==============================] - 3s 2ms/step - loss: 0.5115 - accuracy: 0.8165 - val_loss: 0.4529 - val_accuracy: 0.8367\n",
      "Epoch 3/5\n",
      "1500/1500 [==============================] - 3s 2ms/step - loss: 0.4534 - accuracy: 0.8374 - val_loss: 0.4327 - val_accuracy: 0.8435\n",
      "Epoch 4/5\n",
      "1500/1500 [==============================] - 3s 2ms/step - loss: 0.4255 - accuracy: 0.8476 - val_loss: 0.4056 - val_accuracy: 0.8500\n",
      "Epoch 5/5\n",
      "1500/1500 [==============================] - 3s 2ms/step - loss: 0.4031 - accuracy: 0.8533 - val_loss: 0.3805 - val_accuracy: 0.8624\n"
     ]
    }
   ],
   "source": [
    "model = keras.Sequential([\n",
    "    keras.layers.Flatten(input_shape = (28,28)),\n",
    "    keras.layers.Dense(256, activation = tf.nn.relu),\n",
    "    keras.layers.Dropout(0.2),  #this means that 20% of our cells will be 'sleeping'\n",
    "    keras.layers.Dense(10, activation = tf.nn.softmax)      #10 like the number of classes we have\n",
    "])\n",
    "\n",
    "adam = keras.optimizers.Adam(lr = 0.005) #lr = learning rate\n",
    "\n",
    "model.compile(optimizer = adam, loss = 'sparse_categorical_crossentropy', metrics = ['accuracy'])\n",
    "historic = model.fit(image_training, id_training, epochs = 5, validation_split = 0.2) #validation"
   ]
  },
  {
   "cell_type": "code",
   "execution_count": 112,
   "id": "f2ac3623-2528-497e-aac8-9e4607cd9f30",
   "metadata": {},
   "outputs": [
    {
     "name": "stdout",
     "output_type": "stream",
     "text": [
      "Epoch 1/5\n",
      "24000/24000 [==============================] - 26s 1ms/step - loss: 0.7797 - accuracy: 0.7103 - val_loss: 0.4549 - val_accuracy: 0.8332\n",
      "Epoch 2/5\n",
      "24000/24000 [==============================] - 23s 968us/step - loss: 0.4685 - accuracy: 0.8274 - val_loss: 0.4122 - val_accuracy: 0.8493\n",
      "Epoch 3/5\n",
      "24000/24000 [==============================] - 23s 949us/step - loss: 0.4294 - accuracy: 0.8426 - val_loss: 0.4099 - val_accuracy: 0.8473\n",
      "Epoch 4/5\n",
      "24000/24000 [==============================] - 23s 961us/step - loss: 0.4069 - accuracy: 0.8502 - val_loss: 0.4076 - val_accuracy: 0.8533\n",
      "Epoch 5/5\n",
      "24000/24000 [==============================] - 23s 950us/step - loss: 0.3913 - accuracy: 0.8584 - val_loss: 0.3976 - val_accuracy: 0.8587\n"
     ]
    }
   ],
   "source": [
    "model = keras.Sequential([\n",
    "    keras.layers.Flatten(input_shape = (28,28)),\n",
    "    keras.layers.Dense(256, activation = tf.nn.relu),\n",
    "    keras.layers.Dropout(0.2),  #this means that 20% of our cells will be 'sleeping'\n",
    "    keras.layers.Dense(10, activation = tf.nn.softmax)      #10 like the number of classes we have\n",
    "])\n",
    "\n",
    "adam = keras.optimizers.Adam(lr = 0.005) #lr = learning rate\n",
    "\n",
    "model.compile(optimizer = adam, loss = 'sparse_categorical_crossentropy', metrics = ['accuracy'])\n",
    "historic = model.fit(image_training, id_training, \n",
    "                     epochs = 5, \n",
    "                     batch_size = 2,\n",
    "                     validation_split = 0.2) #validation"
   ]
  },
  {
   "cell_type": "code",
   "execution_count": 114,
   "id": "628d8118-fd08-4de9-962a-4a3c57051bcc",
   "metadata": {},
   "outputs": [
    {
     "name": "stdout",
     "output_type": "stream",
     "text": [
      "Epoch 1/5\n",
      "48000/48000 [==============================] - 36s 740us/step - loss: 0.7616 - accuracy: 0.7194 - val_loss: 0.4481 - val_accuracy: 0.8349\n",
      "Epoch 2/5\n",
      "48000/48000 [==============================] - 35s 723us/step - loss: 0.4846 - accuracy: 0.8229 - val_loss: 0.4563 - val_accuracy: 0.8407\n",
      "Epoch 3/5\n",
      "48000/48000 [==============================] - 33s 686us/step - loss: 0.4491 - accuracy: 0.8377 - val_loss: 0.4269 - val_accuracy: 0.8482\n",
      "Epoch 4/5\n",
      "48000/48000 [==============================] - 32s 668us/step - loss: 0.4383 - accuracy: 0.8422 - val_loss: 0.4267 - val_accuracy: 0.8503\n",
      "Epoch 5/5\n",
      "48000/48000 [==============================] - 35s 733us/step - loss: 0.4238 - accuracy: 0.8448 - val_loss: 0.4529 - val_accuracy: 0.8357\n"
     ]
    }
   ],
   "source": [
    "model = keras.Sequential([\n",
    "    keras.layers.Flatten(input_shape = (28,28)),\n",
    "    keras.layers.Dense(256, activation = tf.nn.relu),\n",
    "    keras.layers.Dropout(0.2),  #this means that 20% of our cells will be 'sleeping'\n",
    "    keras.layers.Dense(10, activation = tf.nn.softmax)      #10 like the number of classes we have\n",
    "])\n",
    "\n",
    "adam = keras.optimizers.Adam(lr = 0.005) #lr = learning rate\n",
    "\n",
    "model.compile(optimizer = adam, loss = 'sparse_categorical_crossentropy', metrics = ['accuracy'])\n",
    "historic = model.fit(image_training, id_training, \n",
    "                     epochs = 5, \n",
    "                     batch_size = 1,\n",
    "                     validation_split = 0.2) #validation"
   ]
  },
  {
   "cell_type": "markdown",
   "id": "c5513a5c-c54a-4cd7-941b-2ba72b9f635a",
   "metadata": {},
   "source": [
    "**Doubling the size of the batch was worse for the model, it took more time to execute and the results were worse**"
   ]
  },
  {
   "cell_type": "markdown",
   "id": "1168152d-d2c4-4fcc-8260-db659e869bd4",
   "metadata": {},
   "source": [
    "# <font color='red'>Checkpoint: </font>\n",
    "<hr style='border: 1px solid red;'>"
   ]
  },
  {
   "cell_type": "code",
   "execution_count": 116,
   "id": "5967a1d0-00a7-4aac-82ad-c48560adbda4",
   "metadata": {},
   "outputs": [
    {
     "name": "stdout",
     "output_type": "stream",
     "text": [
      "Epoch 1/5\n",
      "24000/24000 [==============================] - 27s 1ms/step - loss: 0.7775 - accuracy: 0.7124 - val_loss: 0.4571 - val_accuracy: 0.8307\n",
      "Epoch 2/5\n",
      "24000/24000 [==============================] - 26s 1ms/step - loss: 0.4631 - accuracy: 0.8327 - val_loss: 0.4210 - val_accuracy: 0.8472\n",
      "Epoch 3/5\n",
      "24000/24000 [==============================] - 27s 1ms/step - loss: 0.4418 - accuracy: 0.8391 - val_loss: 0.4160 - val_accuracy: 0.8512\n",
      "Epoch 4/5\n",
      "24000/24000 [==============================] - 24s 1ms/step - loss: 0.4114 - accuracy: 0.8501 - val_loss: 0.4030 - val_accuracy: 0.8606\n",
      "Epoch 5/5\n",
      "24000/24000 [==============================] - 25s 1ms/step - loss: 0.3914 - accuracy: 0.8563 - val_loss: 0.3976 - val_accuracy: 0.8498\n"
     ]
    }
   ],
   "source": [
    "model = keras.Sequential([\n",
    "    keras.layers.Flatten(input_shape = (28,28)),\n",
    "    keras.layers.Dense(256, activation = tf.nn.relu),\n",
    "    keras.layers.Dropout(0.2),  #this means that 20% of our cells will be 'sleeping'\n",
    "    keras.layers.Dense(10, activation = tf.nn.softmax)      #10 like the number of classes we have\n",
    "])\n",
    "\n",
    "adam = keras.optimizers.Adam(lr = 0.005) #lr = learning rate\n",
    "\n",
    "callback = [keras.callbacks.EarlyStopping(monitor='val_loss')] #if the values arent changing the model stop early\n",
    "\n",
    "model.compile(optimizer = adam, loss = 'sparse_categorical_crossentropy', metrics = ['accuracy'])\n",
    "historic = model.fit(image_training, id_training, \n",
    "                     epochs = 5, \n",
    "                     batch_size = 2,\n",
    "                     validation_split = 0.2,\n",
    "                     callbacks = callback) "
   ]
  }
 ],
 "metadata": {
  "kernelspec": {
   "display_name": "Python 3 (ipykernel)",
   "language": "python",
   "name": "python3"
  },
  "language_info": {
   "codemirror_mode": {
    "name": "ipython",
    "version": 3
   },
   "file_extension": ".py",
   "mimetype": "text/x-python",
   "name": "python",
   "nbconvert_exporter": "python",
   "pygments_lexer": "ipython3",
   "version": "3.9.12"
  }
 },
 "nbformat": 4,
 "nbformat_minor": 5
}
